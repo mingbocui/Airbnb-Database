{
 "cells": [
  {
   "cell_type": "code",
   "execution_count": 1,
   "metadata": {},
   "outputs": [],
   "source": [
    "import pandas as pd\n",
    "import pandas\n",
    "import numpy as np\n",
    "import glob\n",
    "import csv"
   ]
  },
  {
   "cell_type": "code",
   "execution_count": 9,
   "metadata": {},
   "outputs": [],
   "source": [
    "#\n",
    "listing = pd.read_csv(\"cleanedTable/listing.csv\")\n",
    "neighbourhood = pd.read_csv(\"cleanedTable/Untitled Folder/neighbourhood.csv\")\n",
    "city = pd.read_csv(\"cleanedTable/Untitled Folder/city.csv\")\n",
    "country = pd.read_csv(\"cleanedTable/Untitled Folder/country.csv\")"
   ]
  },
  {
   "cell_type": "code",
   "execution_count": 10,
   "metadata": {},
   "outputs": [
    {
     "data": {
      "text/html": [
       "<div>\n",
       "<style scoped>\n",
       "    .dataframe tbody tr th:only-of-type {\n",
       "        vertical-align: middle;\n",
       "    }\n",
       "\n",
       "    .dataframe tbody tr th {\n",
       "        vertical-align: top;\n",
       "    }\n",
       "\n",
       "    .dataframe thead th {\n",
       "        text-align: right;\n",
       "    }\n",
       "</style>\n",
       "<table border=\"1\" class=\"dataframe\">\n",
       "  <thead>\n",
       "    <tr style=\"text-align: right;\">\n",
       "      <th></th>\n",
       "      <th>country_id</th>\n",
       "      <th>country</th>\n",
       "    </tr>\n",
       "  </thead>\n",
       "  <tbody>\n",
       "    <tr>\n",
       "      <th>0</th>\n",
       "      <td>0</td>\n",
       "      <td>Spain</td>\n",
       "    </tr>\n",
       "    <tr>\n",
       "      <th>1</th>\n",
       "      <td>1</td>\n",
       "      <td>Germany</td>\n",
       "    </tr>\n",
       "  </tbody>\n",
       "</table>\n",
       "</div>"
      ],
      "text/plain": [
       "   country_id  country\n",
       "0           0    Spain\n",
       "1           1  Germany"
      ]
     },
     "execution_count": 10,
     "metadata": {},
     "output_type": "execute_result"
    }
   ],
   "source": [
    "country"
   ]
  },
  {
   "cell_type": "code",
   "execution_count": 11,
   "metadata": {},
   "outputs": [],
   "source": [
    "listing_neighbourhood = pd.merge(listing, neighbourhood, on='neighbourhood_id')\n",
    "listing_neighbourhood_city = pd.merge(listing_neighbourhood, city, on='city_id')"
   ]
  },
  {
   "cell_type": "code",
   "execution_count": 12,
   "metadata": {},
   "outputs": [],
   "source": [
    "listing_neighbourhood_city_country = pd.merge(listing_neighbourhood_city, country, on='country_id')"
   ]
  },
  {
   "cell_type": "code",
   "execution_count": 17,
   "metadata": {},
   "outputs": [],
   "source": [
    "NEW_listing = listing_neighbourhood_city_country"
   ]
  },
  {
   "cell_type": "code",
   "execution_count": 20,
   "metadata": {},
   "outputs": [],
   "source": [
    "NEW_listing = NEW_listing.rename(columns={'city_name': 'city'})"
   ]
  },
  {
   "cell_type": "code",
   "execution_count": 22,
   "metadata": {},
   "outputs": [],
   "source": [
    "NEW_listing.loc[NEW_listing['city'].str.lower().str.contains('spain') == True,'city'] = 'Barcelona'\n",
    "NEW_listing.loc[NEW_listing['city'].str.lower().str.contains('eixample') == True,'city'] = 'Barcelona'\n",
    "NEW_listing.loc[NEW_listing['city'].str.lower().str.contains('saint') == True,'city'] = 'Sant Adrià de Besos'"
   ]
  },
  {
   "cell_type": "code",
   "execution_count": 23,
   "metadata": {},
   "outputs": [],
   "source": [
    "NEW_listing.loc[NEW_listing['neighbourhood'].str.lower().str.contains('ei ravel') == True,'city'] = 'Barcelona'\n",
    "NEW_listing.loc[NEW_listing['neighbourhood'].str.lower().str.contains('el fort') == True,'city'] = 'Barcelona'\n",
    "NEW_listing.loc[NEW_listing['neighbourhood'].str.lower().str.contains('diagonal mar') == True,'city'] = 'Barcelona'\n",
    "\n",
    "NEW_listing.loc[NEW_listing['neighbourhood'].str.lower().str.contains('sants-mon') == True,'city'] = 'Barcelona'\n",
    "NEW_listing.loc[NEW_listing['neighbourhood'].str.lower().str.contains('ei bes') == True,'city'] = 'Barcelona'\n",
    "NEW_listing.loc[NEW_listing['neighbourhood'].str.lower().str.contains('les corts') == True,'city'] = 'Barcelona'\n",
    "\n",
    "NEW_listing.loc[NEW_listing['neighbourhood'].str.lower().str.contains('la matern') == True,'city'] = 'Barcelona'\n",
    "NEW_listing.loc[NEW_listing['neighbourhood'].str.lower().str.contains('sant mart') == True,'city'] = 'Barcelona'"
   ]
  },
  {
   "cell_type": "code",
   "execution_count": null,
   "metadata": {},
   "outputs": [],
   "source": [
    "listing_neighbourhood_city_country[['country','neighbourhood','city_name']]"
   ]
  },
  {
   "cell_type": "code",
   "execution_count": null,
   "metadata": {},
   "outputs": [],
   "source": [
    "listing_neighbourhood_city_country['neighbourhood'].to_frame().drop_duplicates()"
   ]
  },
  {
   "cell_type": "code",
   "execution_count": null,
   "metadata": {},
   "outputs": [],
   "source": [
    "pd.concat([df, pd.DataFrame(columns=list('DE'))])"
   ]
  }
 ],
 "metadata": {
  "kernelspec": {
   "display_name": "Python 3",
   "language": "python",
   "name": "python3"
  },
  "language_info": {
   "codemirror_mode": {
    "name": "ipython",
    "version": 3
   },
   "file_extension": ".py",
   "mimetype": "text/x-python",
   "name": "python",
   "nbconvert_exporter": "python",
   "pygments_lexer": "ipython3",
   "version": "3.6.8"
  }
 },
 "nbformat": 4,
 "nbformat_minor": 2
}
