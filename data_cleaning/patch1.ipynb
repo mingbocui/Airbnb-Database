{
 "cells": [
  {
   "cell_type": "code",
   "execution_count": 2,
   "metadata": {},
   "outputs": [],
   "source": [
    "import cx_Oracle\n",
    "import csv\n",
    "import codecs\n",
    "\n",
    "#connection = cx_Oracle.connect(\"C##DB2019_G13\", \"DB2019_G13\", \"localhost/orclpdb\")\n",
    "connection = cx_Oracle.connect(\"C##DB2019_G13/DB2019_G13@cs322-db.epfl.ch:1521/ORCLCDB\")\n",
    "mycursor = connection.cursor()"
   ]
  },
  {
   "cell_type": "code",
   "execution_count": 7,
   "metadata": {},
   "outputs": [],
   "source": [
    "mycursor.execute(\"CREATE TABLE Test(testid number(10))\")\n"
   ]
  },
  {
   "cell_type": "code",
   "execution_count": 8,
   "metadata": {},
   "outputs": [],
   "source": [
    "mycursor.execute(\"drop table test\")"
   ]
  },
  {
   "cell_type": "code",
   "execution_count": null,
   "metadata": {},
   "outputs": [],
   "source": [
    "# load relationship has_amenities\n",
    "with open(\"airbnb/clean/hasAmenities.csv\", \"r\") as csv_file:\n",
    "\tcsv_reader = csv.reader(csv_file, delimiter=',')\n",
    "\tnext(csv_reader) # skip first line if header row\n",
    "\tfor lines in csv_reader:\n",
    "\t\tsql = \"INSERT INTO amenities (amenities_id, amenities_type) VALUES (:0, :1)\"\n",
    "\t\tval = (lines[0], lines[1])\n",
    "\t\tprint(lines[0], lines[1])\n",
    "\t\tmycursor.execute(sql, val)\n",
    "\n",
    "# load relationship \n",
    "\n",
    "\n",
    "connection.commit()"
   ]
  },
  {
   "cell_type": "code",
   "execution_count": null,
   "metadata": {},
   "outputs": [],
   "source": [
    "\n",
    "#LOAD ENTITY CANCELLATION\n",
    "# with open(\"airbnb/clean/cancellation.csv\", \"r\") as csv_file:\n",
    "# \tcsv_reader = csv.reader(csv_file, delimiter=',')\n",
    "# \tnext(csv_reader) # skip first line if header row\n",
    "# \tfor lines in csv_reader:\n",
    "# \t\tsql = \"INSERT INTO cancellation (cancellation_id, cancellation_policy) VALUES (:0, :1)\"\n",
    "# \t\tval = (lines[0], lines[1])\n",
    "# \t\tmycursor.execute(sql, val)\n",
    "\n",
    "#LOAD RELATIONSHIP HAS_CANCELLATION\n",
    "# with open(\"airbnb/clean/hasCancellation.csv\", \"r\") as csv_file:\n",
    "# \tcsv_reader = csv.reader(csv_file, delimiter=',')\n",
    "# \tnext(csv_reader) # skip first line if header row\n",
    "# \tfor lines in csv_reader:\n",
    "# \t\tsql = \"INSERT INTO hascancellation (listing_id, cancellation_id) VALUES (:0, :1)\"\n",
    "# \t\tval = (lines[0], lines[1])\n",
    "# \t\tmycursor.execute(sql, val)\n",
    "\n",
    "\n",
    "#load entity amenities\n",
    "# with open(\"airbnb/clean/amenities.csv\", \"r\") as csv_file:\n",
    "# \tcsv_reader = csv.reader(csv_file, delimiter=',')\n",
    "# \tnext(csv_reader) # skip first line if header row\n",
    "# \tfor lines in csv_reader:\n",
    "# \t\tsql = \"INSERT INTO amenities (amenities_id, amenities_type) VALUES (:0, :1)\"\n",
    "# \t\tval = (lines[0], lines[1])\n",
    "# \t\tprint(lines[0], lines[1])\n",
    "# \t\tmycursor.execute(sql, val)\n"
   ]
  },
  {
   "cell_type": "code",
   "execution_count": 1,
   "metadata": {},
   "outputs": [],
   "source": [
    "import pandas as pd\n",
    "import pandas\n",
    "import numpy as np\n",
    "import glob\n",
    "import csv"
   ]
  },
  {
   "cell_type": "code",
   "execution_count": 2,
   "metadata": {},
   "outputs": [],
   "source": [
    "reviewer = pd.read_csv(\"cleanedTable/reviewer.csv\")"
   ]
  },
  {
   "cell_type": "code",
   "execution_count": 4,
   "metadata": {},
   "outputs": [],
   "source": [
    "reviewer['reviewer_name'] = reviewer['reviewer_name'].str.replace('\"','')"
   ]
  },
  {
   "cell_type": "code",
   "execution_count": 10,
   "metadata": {},
   "outputs": [],
   "source": [
    "reviewer.to_csv(\"cleanedTable/reviewer.csv\")"
   ]
  },
  {
   "cell_type": "code",
   "execution_count": null,
   "metadata": {},
   "outputs": [],
   "source": [
    "import numpy as np"
   ]
  },
  {
   "cell_type": "code",
   "execution_count": 9,
   "metadata": {},
   "outputs": [
    {
     "data": {
      "text/plain": [
       "0"
      ]
     },
     "execution_count": 9,
     "metadata": {},
     "output_type": "execute_result"
    }
   ],
   "source": [
    "np.sum(reviewer['reviewer_name'].str.contains('\"')==True)"
   ]
  },
  {
   "cell_type": "code",
   "execution_count": 11,
   "metadata": {},
   "outputs": [],
   "source": [
    "hasVerification = pd.read_csv(\"cleanedTable/hasVerification.csv\")"
   ]
  },
  {
   "cell_type": "code",
   "execution_count": 12,
   "metadata": {},
   "outputs": [
    {
     "data": {
      "text/plain": [
       "(220213, 2)"
      ]
     },
     "execution_count": 12,
     "metadata": {},
     "output_type": "execute_result"
    }
   ],
   "source": [
    "hasVerification.shape"
   ]
  },
  {
   "cell_type": "code",
   "execution_count": 13,
   "metadata": {},
   "outputs": [],
   "source": [
    "hasVerification = hasVerification.drop_duplicates()"
   ]
  },
  {
   "cell_type": "code",
   "execution_count": 14,
   "metadata": {},
   "outputs": [
    {
     "data": {
      "text/plain": [
       "(128907, 2)"
      ]
     },
     "execution_count": 14,
     "metadata": {},
     "output_type": "execute_result"
    }
   ],
   "source": [
    "hasVerification.shape"
   ]
  },
  {
   "cell_type": "code",
   "execution_count": 15,
   "metadata": {},
   "outputs": [],
   "source": [
    "hasVerification.to_csv(\"cleanedTable/hasVerification.csv\")"
   ]
  },
  {
   "cell_type": "code",
   "execution_count": null,
   "metadata": {},
   "outputs": [],
   "source": []
  }
 ],
 "metadata": {
  "kernelspec": {
   "display_name": "Python 3",
   "language": "python",
   "name": "python3"
  },
  "language_info": {
   "codemirror_mode": {
    "name": "ipython",
    "version": 3
   },
   "file_extension": ".py",
   "mimetype": "text/x-python",
   "name": "python",
   "nbconvert_exporter": "python",
   "pygments_lexer": "ipython3",
   "version": "3.6.8"
  }
 },
 "nbformat": 4,
 "nbformat_minor": 2
}
