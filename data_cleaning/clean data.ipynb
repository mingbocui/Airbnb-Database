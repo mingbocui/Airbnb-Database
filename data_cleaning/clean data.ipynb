{
 "cells": [
  {
   "cell_type": "code",
   "execution_count": 1,
   "metadata": {},
   "outputs": [],
   "source": [
    "import pandas as pd\n",
    "import pandas\n",
    "import numpy as np\n",
    "import glob\n",
    "import csv"
   ]
  },
  {
   "cell_type": "code",
   "execution_count": 11,
   "metadata": {},
   "outputs": [],
   "source": [
    "listing = pandas.read_csv('cleanedTable/listing.csv')"
   ]
  },
  {
   "cell_type": "code",
   "execution_count": 12,
   "metadata": {},
   "outputs": [],
   "source": [
    "listing.drop(listing.columns[0],axis=1,inplace=True)"
   ]
  },
  {
   "cell_type": "code",
   "execution_count": 25,
   "metadata": {},
   "outputs": [],
   "source": [
    "listing['extra_people'] = listing['extra_people'].replace(-999,'')"
   ]
  },
  {
   "cell_type": "code",
   "execution_count": 27,
   "metadata": {},
   "outputs": [],
   "source": [
    "listing['monthly_price'] = listing['monthly_price'].str.replace('$','')"
   ]
  },
  {
   "cell_type": "code",
   "execution_count": 31,
   "metadata": {},
   "outputs": [],
   "source": [
    "listing.to_csv(\"cleanedTable/listing.csv\",index=False)"
   ]
  },
  {
   "cell_type": "code",
   "execution_count": 85,
   "metadata": {},
   "outputs": [],
   "source": [
    "listings = pandas.read_csv('cleanedTable/listings.csv')"
   ]
  },
  {
   "cell_type": "code",
   "execution_count": 32,
   "metadata": {},
   "outputs": [],
   "source": [
    "host = pd.read_csv(\"cleanedTable/host.csv\")\n",
    "host.drop(host.columns[0],axis=1,inplace=True)\n",
    "host = host.drop_duplicates()"
   ]
  },
  {
   "cell_type": "code",
   "execution_count": 35,
   "metadata": {},
   "outputs": [],
   "source": [
    "host['host_response_rate'] =host['host_response_rate'].replace(-999,'')"
   ]
  },
  {
   "cell_type": "code",
   "execution_count": 36,
   "metadata": {},
   "outputs": [],
   "source": [
    "host.to_csv(\"cleanedTable/host.csv\",index=False)"
   ]
  },
  {
   "cell_type": "code",
   "execution_count": 37,
   "metadata": {},
   "outputs": [],
   "source": [
    "reviewer = pd.read_csv(\"cleanedTable/reviewer.csv\")"
   ]
  },
  {
   "cell_type": "code",
   "execution_count": 41,
   "metadata": {},
   "outputs": [],
   "source": [
    "reviewer['reviewer_name'] = reviewer['reviewer_name'].str.replace('\\n',' ')"
   ]
  },
  {
   "cell_type": "code",
   "execution_count": 44,
   "metadata": {},
   "outputs": [],
   "source": [
    "reviewer.drop(reviewer.columns[0],axis=1,inplace=True)"
   ]
  },
  {
   "cell_type": "code",
   "execution_count": 45,
   "metadata": {},
   "outputs": [],
   "source": [
    "reviewer.to_csv(\"cleanedTable/reviewer.csv\",index=False)"
   ]
  },
  {
   "cell_type": "code",
   "execution_count": 49,
   "metadata": {},
   "outputs": [
    {
     "data": {
      "text/plain": [
       "1"
      ]
     },
     "execution_count": 49,
     "metadata": {},
     "output_type": "execute_result"
    }
   ],
   "source": [
    "sum(reviewer['reviewer_name'].isnull()==True)"
   ]
  },
  {
   "cell_type": "code",
   "execution_count": 52,
   "metadata": {},
   "outputs": [],
   "source": [
    "listing = pd.read_csv(\"cleanedTable/listing.csv\")"
   ]
  },
  {
   "cell_type": "code",
   "execution_count": 53,
   "metadata": {},
   "outputs": [
    {
     "data": {
      "text/html": [
       "<div>\n",
       "<style scoped>\n",
       "    .dataframe tbody tr th:only-of-type {\n",
       "        vertical-align: middle;\n",
       "    }\n",
       "\n",
       "    .dataframe tbody tr th {\n",
       "        vertical-align: top;\n",
       "    }\n",
       "\n",
       "    .dataframe thead th {\n",
       "        text-align: right;\n",
       "    }\n",
       "</style>\n",
       "<table border=\"1\" class=\"dataframe\">\n",
       "  <thead>\n",
       "    <tr style=\"text-align: right;\">\n",
       "      <th></th>\n",
       "      <th>id</th>\n",
       "      <th>host_id</th>\n",
       "      <th>review_scores_rating</th>\n",
       "      <th>cleaning_fee</th>\n",
       "      <th>minimum_nights</th>\n",
       "      <th>square_feet</th>\n",
       "      <th>review_scores_cleanliness</th>\n",
       "      <th>review_scores_accuracy</th>\n",
       "      <th>review_scores_value</th>\n",
       "      <th>review_scores_location</th>\n",
       "      <th>...</th>\n",
       "      <th>extra_people</th>\n",
       "      <th>longitude</th>\n",
       "      <th>latitude</th>\n",
       "      <th>cancellation_policy_id</th>\n",
       "      <th>room_type_id</th>\n",
       "      <th>bed_type_id</th>\n",
       "      <th>property_type_id</th>\n",
       "      <th>neighbourhood_id</th>\n",
       "      <th>city_id</th>\n",
       "      <th>country_id</th>\n",
       "    </tr>\n",
       "  </thead>\n",
       "  <tbody>\n",
       "    <tr>\n",
       "      <th>count</th>\n",
       "      <td>4.208300e+04</td>\n",
       "      <td>4.208300e+04</td>\n",
       "      <td>34437.000000</td>\n",
       "      <td>31549.000000</td>\n",
       "      <td>42083.000000</td>\n",
       "      <td>1208.000000</td>\n",
       "      <td>34414.000000</td>\n",
       "      <td>34410.000000</td>\n",
       "      <td>34382.000000</td>\n",
       "      <td>34384.000000</td>\n",
       "      <td>...</td>\n",
       "      <td>42083.000000</td>\n",
       "      <td>42083.000000</td>\n",
       "      <td>42083.000000</td>\n",
       "      <td>42083.000000</td>\n",
       "      <td>42083.000000</td>\n",
       "      <td>42083.000000</td>\n",
       "      <td>42083.000000</td>\n",
       "      <td>42083.000000</td>\n",
       "      <td>42083.000000</td>\n",
       "      <td>42083.000000</td>\n",
       "    </tr>\n",
       "    <tr>\n",
       "      <th>mean</th>\n",
       "      <td>1.629816e+07</td>\n",
       "      <td>6.049882e+07</td>\n",
       "      <td>92.931469</td>\n",
       "      <td>33.772449</td>\n",
       "      <td>6.968942</td>\n",
       "      <td>440.126656</td>\n",
       "      <td>9.342651</td>\n",
       "      <td>9.539843</td>\n",
       "      <td>9.249491</td>\n",
       "      <td>9.545690</td>\n",
       "      <td>...</td>\n",
       "      <td>8.707720</td>\n",
       "      <td>4.833688</td>\n",
       "      <td>45.463209</td>\n",
       "      <td>0.999739</td>\n",
       "      <td>0.462087</td>\n",
       "      <td>0.027992</td>\n",
       "      <td>0.760663</td>\n",
       "      <td>85.216810</td>\n",
       "      <td>9.637288</td>\n",
       "      <td>0.392130</td>\n",
       "    </tr>\n",
       "    <tr>\n",
       "      <th>std</th>\n",
       "      <td>8.982385e+06</td>\n",
       "      <td>6.486029e+07</td>\n",
       "      <td>8.372881</td>\n",
       "      <td>36.294078</td>\n",
       "      <td>32.797299</td>\n",
       "      <td>552.770574</td>\n",
       "      <td>0.988168</td>\n",
       "      <td>0.844191</td>\n",
       "      <td>0.906717</td>\n",
       "      <td>0.739727</td>\n",
       "      <td>...</td>\n",
       "      <td>12.627263</td>\n",
       "      <td>7.254314</td>\n",
       "      <td>5.672454</td>\n",
       "      <td>0.797330</td>\n",
       "      <td>0.519023</td>\n",
       "      <td>0.225033</td>\n",
       "      <td>2.660054</td>\n",
       "      <td>55.552952</td>\n",
       "      <td>7.083950</td>\n",
       "      <td>0.488231</td>\n",
       "    </tr>\n",
       "    <tr>\n",
       "      <th>min</th>\n",
       "      <td>2.015000e+03</td>\n",
       "      <td>2.217000e+03</td>\n",
       "      <td>20.000000</td>\n",
       "      <td>0.000000</td>\n",
       "      <td>1.000000</td>\n",
       "      <td>0.000000</td>\n",
       "      <td>2.000000</td>\n",
       "      <td>2.000000</td>\n",
       "      <td>2.000000</td>\n",
       "      <td>2.000000</td>\n",
       "      <td>...</td>\n",
       "      <td>0.000000</td>\n",
       "      <td>-3.835498</td>\n",
       "      <td>40.326280</td>\n",
       "      <td>0.000000</td>\n",
       "      <td>0.000000</td>\n",
       "      <td>0.000000</td>\n",
       "      <td>0.000000</td>\n",
       "      <td>0.000000</td>\n",
       "      <td>0.000000</td>\n",
       "      <td>0.000000</td>\n",
       "    </tr>\n",
       "    <tr>\n",
       "      <th>25%</th>\n",
       "      <td>8.261768e+06</td>\n",
       "      <td>8.028055e+06</td>\n",
       "      <td>90.000000</td>\n",
       "      <td>10.000000</td>\n",
       "      <td>1.000000</td>\n",
       "      <td>0.000000</td>\n",
       "      <td>9.000000</td>\n",
       "      <td>9.000000</td>\n",
       "      <td>9.000000</td>\n",
       "      <td>9.000000</td>\n",
       "      <td>...</td>\n",
       "      <td>0.000000</td>\n",
       "      <td>-3.678696</td>\n",
       "      <td>40.433806</td>\n",
       "      <td>0.000000</td>\n",
       "      <td>0.000000</td>\n",
       "      <td>0.000000</td>\n",
       "      <td>0.000000</td>\n",
       "      <td>19.000000</td>\n",
       "      <td>0.000000</td>\n",
       "      <td>0.000000</td>\n",
       "    </tr>\n",
       "    <tr>\n",
       "      <th>50%</th>\n",
       "      <td>1.791427e+07</td>\n",
       "      <td>3.324920e+07</td>\n",
       "      <td>95.000000</td>\n",
       "      <td>25.000000</td>\n",
       "      <td>2.000000</td>\n",
       "      <td>269.000000</td>\n",
       "      <td>10.000000</td>\n",
       "      <td>10.000000</td>\n",
       "      <td>9.000000</td>\n",
       "      <td>10.000000</td>\n",
       "      <td>...</td>\n",
       "      <td>5.000000</td>\n",
       "      <td>2.174146</td>\n",
       "      <td>41.397817</td>\n",
       "      <td>1.000000</td>\n",
       "      <td>0.000000</td>\n",
       "      <td>0.000000</td>\n",
       "      <td>0.000000</td>\n",
       "      <td>81.000000</td>\n",
       "      <td>10.000000</td>\n",
       "      <td>0.000000</td>\n",
       "    </tr>\n",
       "    <tr>\n",
       "      <th>75%</th>\n",
       "      <td>2.387307e+07</td>\n",
       "      <td>1.005854e+08</td>\n",
       "      <td>99.000000</td>\n",
       "      <td>49.000000</td>\n",
       "      <td>3.000000</td>\n",
       "      <td>732.000000</td>\n",
       "      <td>10.000000</td>\n",
       "      <td>10.000000</td>\n",
       "      <td>10.000000</td>\n",
       "      <td>10.000000</td>\n",
       "      <td>...</td>\n",
       "      <td>15.000000</td>\n",
       "      <td>13.396357</td>\n",
       "      <td>52.497039</td>\n",
       "      <td>2.000000</td>\n",
       "      <td>1.000000</td>\n",
       "      <td>0.000000</td>\n",
       "      <td>0.000000</td>\n",
       "      <td>135.000000</td>\n",
       "      <td>17.000000</td>\n",
       "      <td>1.000000</td>\n",
       "    </tr>\n",
       "    <tr>\n",
       "      <th>max</th>\n",
       "      <td>2.986842e+07</td>\n",
       "      <td>2.246002e+08</td>\n",
       "      <td>100.000000</td>\n",
       "      <td>550.000000</td>\n",
       "      <td>5000.000000</td>\n",
       "      <td>5167.000000</td>\n",
       "      <td>10.000000</td>\n",
       "      <td>10.000000</td>\n",
       "      <td>10.000000</td>\n",
       "      <td>10.000000</td>\n",
       "      <td>...</td>\n",
       "      <td>260.000000</td>\n",
       "      <td>13.721424</td>\n",
       "      <td>52.651670</td>\n",
       "      <td>5.000000</td>\n",
       "      <td>2.000000</td>\n",
       "      <td>4.000000</td>\n",
       "      <td>30.000000</td>\n",
       "      <td>223.000000</td>\n",
       "      <td>26.000000</td>\n",
       "      <td>1.000000</td>\n",
       "    </tr>\n",
       "  </tbody>\n",
       "</table>\n",
       "<p>8 rows × 27 columns</p>\n",
       "</div>"
      ],
      "text/plain": [
       "                 id       host_id  review_scores_rating  cleaning_fee  \\\n",
       "count  4.208300e+04  4.208300e+04          34437.000000  31549.000000   \n",
       "mean   1.629816e+07  6.049882e+07             92.931469     33.772449   \n",
       "std    8.982385e+06  6.486029e+07              8.372881     36.294078   \n",
       "min    2.015000e+03  2.217000e+03             20.000000      0.000000   \n",
       "25%    8.261768e+06  8.028055e+06             90.000000     10.000000   \n",
       "50%    1.791427e+07  3.324920e+07             95.000000     25.000000   \n",
       "75%    2.387307e+07  1.005854e+08             99.000000     49.000000   \n",
       "max    2.986842e+07  2.246002e+08            100.000000    550.000000   \n",
       "\n",
       "       minimum_nights  square_feet  review_scores_cleanliness  \\\n",
       "count    42083.000000  1208.000000               34414.000000   \n",
       "mean         6.968942   440.126656                   9.342651   \n",
       "std         32.797299   552.770574                   0.988168   \n",
       "min          1.000000     0.000000                   2.000000   \n",
       "25%          1.000000     0.000000                   9.000000   \n",
       "50%          2.000000   269.000000                  10.000000   \n",
       "75%          3.000000   732.000000                  10.000000   \n",
       "max       5000.000000  5167.000000                  10.000000   \n",
       "\n",
       "       review_scores_accuracy  review_scores_value  review_scores_location  \\\n",
       "count            34410.000000         34382.000000            34384.000000   \n",
       "mean                 9.539843             9.249491                9.545690   \n",
       "std                  0.844191             0.906717                0.739727   \n",
       "min                  2.000000             2.000000                2.000000   \n",
       "25%                  9.000000             9.000000                9.000000   \n",
       "50%                 10.000000             9.000000               10.000000   \n",
       "75%                 10.000000            10.000000               10.000000   \n",
       "max                 10.000000            10.000000               10.000000   \n",
       "\n",
       "           ...       extra_people     longitude      latitude  \\\n",
       "count      ...       42083.000000  42083.000000  42083.000000   \n",
       "mean       ...           8.707720      4.833688     45.463209   \n",
       "std        ...          12.627263      7.254314      5.672454   \n",
       "min        ...           0.000000     -3.835498     40.326280   \n",
       "25%        ...           0.000000     -3.678696     40.433806   \n",
       "50%        ...           5.000000      2.174146     41.397817   \n",
       "75%        ...          15.000000     13.396357     52.497039   \n",
       "max        ...         260.000000     13.721424     52.651670   \n",
       "\n",
       "       cancellation_policy_id  room_type_id   bed_type_id  property_type_id  \\\n",
       "count            42083.000000  42083.000000  42083.000000      42083.000000   \n",
       "mean                 0.999739      0.462087      0.027992          0.760663   \n",
       "std                  0.797330      0.519023      0.225033          2.660054   \n",
       "min                  0.000000      0.000000      0.000000          0.000000   \n",
       "25%                  0.000000      0.000000      0.000000          0.000000   \n",
       "50%                  1.000000      0.000000      0.000000          0.000000   \n",
       "75%                  2.000000      1.000000      0.000000          0.000000   \n",
       "max                  5.000000      2.000000      4.000000         30.000000   \n",
       "\n",
       "       neighbourhood_id       city_id    country_id  \n",
       "count      42083.000000  42083.000000  42083.000000  \n",
       "mean          85.216810      9.637288      0.392130  \n",
       "std           55.552952      7.083950      0.488231  \n",
       "min            0.000000      0.000000      0.000000  \n",
       "25%           19.000000      0.000000      0.000000  \n",
       "50%           81.000000     10.000000      0.000000  \n",
       "75%          135.000000     17.000000      1.000000  \n",
       "max          223.000000     26.000000      1.000000  \n",
       "\n",
       "[8 rows x 27 columns]"
      ]
     },
     "execution_count": 53,
     "metadata": {},
     "output_type": "execute_result"
    }
   ],
   "source": [
    "listing[]"
   ]
  },
  {
   "cell_type": "code",
   "execution_count": 81,
   "metadata": {},
   "outputs": [],
   "source": [
    "int_col = ['id','host_id','room_type_id','bed_type_id','city_id','country_id','neighbourhood_id','property_type_id',\n",
    "           'minimum_nights','cancellation_policy_id','review_scores_rating','review_scores_cleanliness','review_scores_accuracy',\n",
    "       'review_scores_value','review_scores_location','review_scores_checkin','review_scores_communication','accommodates',\n",
    "           'maximum_nights','guests_included','bathrooms','bedrooms']"
   ]
  },
  {
   "cell_type": "code",
   "execution_count": null,
   "metadata": {},
   "outputs": [],
   "source": [
    "listing['bedrooms']\n"
   ]
  },
  {
   "cell_type": "code",
   "execution_count": 85,
   "metadata": {},
   "outputs": [],
   "source": [
    "listing[int_col] = listing[int_col].fillna(-999).astype('int')"
   ]
  },
  {
   "cell_type": "code",
   "execution_count": 87,
   "metadata": {},
   "outputs": [],
   "source": [
    "listing[int_col] = listing[int_col].replace(-999,'')"
   ]
  },
  {
   "cell_type": "code",
   "execution_count": 93,
   "metadata": {},
   "outputs": [],
   "source": [
    "listing['security_deposit'] = listing['security_deposit'].replace('-999','')"
   ]
  },
  {
   "cell_type": "code",
   "execution_count": 94,
   "metadata": {},
   "outputs": [],
   "source": [
    "listing.to_csv(\"cleanedTable/listing.csv\",index=False)"
   ]
  },
  {
   "cell_type": "code",
   "execution_count": null,
   "metadata": {},
   "outputs": [],
   "source": [
    "#listing[int_col] = listing[int_col].apply(lambda col: col.apply(lambda x: int(x) if pd.notnull(x) else x), axis=1)"
   ]
  },
  {
   "cell_type": "code",
   "execution_count": 74,
   "metadata": {},
   "outputs": [],
   "source": [
    "listing.to_csv(\"cleanedTable/listing.csv\",index=False)"
   ]
  },
  {
   "cell_type": "code",
   "execution_count": 56,
   "metadata": {},
   "outputs": [],
   "source": [
    "listing[['minimum_nights','cancellation_policy_id']] = listing[['minimum_nights','cancellation_policy_id']].round()"
   ]
  },
  {
   "cell_type": "code",
   "execution_count": null,
   "metadata": {},
   "outputs": [],
   "source": [
    "host host id ronghe!!!!!!!!!!!!!!!!!!!!"
   ]
  },
  {
   "cell_type": "code",
   "execution_count": 50,
   "metadata": {},
   "outputs": [],
   "source": [
    "reviews = pd.read_csv(\"cleanedTable/reviews.csv\")"
   ]
  },
  {
   "cell_type": "code",
   "execution_count": 51,
   "metadata": {},
   "outputs": [
    {
     "data": {
      "text/plain": [
       "1"
      ]
     },
     "execution_count": 51,
     "metadata": {},
     "output_type": "execute_result"
    }
   ],
   "source": [
    "sum(reviews['reviewer_name'].isnull()==True)"
   ]
  },
  {
   "cell_type": "code",
   "execution_count": 42,
   "metadata": {},
   "outputs": [
    {
     "data": {
      "text/plain": [
       "0"
      ]
     },
     "execution_count": 42,
     "metadata": {},
     "output_type": "execute_result"
    }
   ],
   "source": [
    "sum(reviewer['reviewer_name'].str.contains('\\n')==True)"
   ]
  },
  {
   "cell_type": "code",
   "execution_count": 10,
   "metadata": {},
   "outputs": [],
   "source": [
    "bed_col = ['id', 'bed_type']\n",
    "#bed_id_type = listings[bed_col].drop_duplicates().to_csv(\"cleanedTable/bed_type.csv\",index=False)\n",
    "bed_id_type = listings[bed_col].drop_duplicates()"
   ]
  },
  {
   "cell_type": "code",
   "execution_count": null,
   "metadata": {},
   "outputs": [],
   "source": [
    "bed_id_type.head()"
   ]
  },
  {
   "cell_type": "code",
   "execution_count": 12,
   "metadata": {},
   "outputs": [],
   "source": [
    "bed_type = listings['bed_type'].drop_duplicates()"
   ]
  },
  {
   "cell_type": "code",
   "execution_count": 17,
   "metadata": {},
   "outputs": [],
   "source": [
    "bed_type.to_frame().to_csv(\"cleanedTable/bed_type.csv\",index=False)"
   ]
  },
  {
   "cell_type": "code",
   "execution_count": 26,
   "metadata": {},
   "outputs": [],
   "source": [
    "bed_type_df = pd.read_csv(\"cleanedTable/bed_type.csv\")"
   ]
  },
  {
   "cell_type": "code",
   "execution_count": 29,
   "metadata": {},
   "outputs": [],
   "source": [
    "bed_type_df['bed_type_id'] = bed_type_df.index"
   ]
  },
  {
   "cell_type": "code",
   "execution_count": 36,
   "metadata": {},
   "outputs": [],
   "source": [
    "bed_type_df = bed_type_df[['bed_type_id', 'bed_type']]"
   ]
  },
  {
   "cell_type": "code",
   "execution_count": 40,
   "metadata": {},
   "outputs": [],
   "source": [
    "bed_type_df.to_csv(\"cleanedTable/bed_type.csv\",index=False)"
   ]
  },
  {
   "cell_type": "code",
   "execution_count": null,
   "metadata": {},
   "outputs": [],
   "source": [
    "bed_id_type.head()"
   ]
  },
  {
   "cell_type": "code",
   "execution_count": 42,
   "metadata": {},
   "outputs": [],
   "source": [
    "hasBedtype = pd.merge(bed_id_type, bed_type_df, on='bed_type')"
   ]
  },
  {
   "cell_type": "code",
   "execution_count": null,
   "metadata": {},
   "outputs": [],
   "source": [
    "hasBedtype = hasBedtype.drop(columns='bed_type')"
   ]
  },
  {
   "cell_type": "code",
   "execution_count": 51,
   "metadata": {},
   "outputs": [],
   "source": [
    "hasBedtype.to_csv(\"cleanedTable/hasBedtype.csv\",index=False)"
   ]
  },
  {
   "cell_type": "code",
   "execution_count": 53,
   "metadata": {},
   "outputs": [],
   "source": [
    "room_type = pd.read_csv('cleanedTable/room_type.csv')\n",
    "room_type['room_type_id'] = room_type.index\n",
    "room_type = room_type[['room_type_id', 'room_type']]"
   ]
  },
  {
   "cell_type": "code",
   "execution_count": 55,
   "metadata": {},
   "outputs": [],
   "source": [
    "room_type.to_csv(\"cleanedTable/room_type.csv\",index=False)"
   ]
  },
  {
   "cell_type": "code",
   "execution_count": 56,
   "metadata": {},
   "outputs": [],
   "source": [
    "room_col = ['id', 'room_type']\n",
    "#bed_id_type = listings[bed_col].drop_duplicates().to_csv(\"cleanedTable/bed_type.csv\",index=False)\n",
    "hasRoomtype = listings[room_col].drop_duplicates()"
   ]
  },
  {
   "cell_type": "code",
   "execution_count": 59,
   "metadata": {},
   "outputs": [],
   "source": [
    "hasRoomtype = pd.merge(hasRoomtype, room_type, on='room_type')"
   ]
  },
  {
   "cell_type": "code",
   "execution_count": 61,
   "metadata": {},
   "outputs": [],
   "source": [
    "hasRoomtype.drop(columns='room_type').to_csv(\"cleanedTable/hasRoomtype.csv\",index=False)"
   ]
  },
  {
   "cell_type": "code",
   "execution_count": 63,
   "metadata": {},
   "outputs": [],
   "source": [
    "property_type = pd.read_csv('cleanedTable/property_type.csv')\n",
    "property_type['property_type_id'] = property_type.index"
   ]
  },
  {
   "cell_type": "code",
   "execution_count": 65,
   "metadata": {},
   "outputs": [],
   "source": [
    "property_type = property_type[['property_type_id', 'property_type']]\n",
    "property_type.to_csv(\"cleanedTable/property_type.csv\",index=False)\n",
    "property_col = ['id', 'property_type']\n",
    "#bed_id_type = listings[bed_col].drop_duplicates().to_csv(\"cleanedTable/bed_type.csv\",index=False)\n",
    "hasPropertype = listings[property_col].drop_duplicates()\n",
    "hasPropertype = pd.merge(hasPropertype, property_type, on='property_type')\n",
    "hasPropertype.drop(columns='property_type').to_csv(\"cleanedTable/hasPropertype.csv\",index=False)"
   ]
  },
  {
   "cell_type": "code",
   "execution_count": 117,
   "metadata": {},
   "outputs": [],
   "source": [
    "cancellation = listings['cancellation_policy'].drop_duplicates().reset_index()\n",
    "cancellation_policy = cancellation#.to_frame()#.reset_index()#.to_csv(\"cleanedTable/cancellation_type.csv\",index=False)"
   ]
  },
  {
   "cell_type": "code",
   "execution_count": null,
   "metadata": {},
   "outputs": [],
   "source": [
    "cancellation_policy = cancellation_policy.drop(columns='index')"
   ]
  },
  {
   "cell_type": "code",
   "execution_count": 124,
   "metadata": {},
   "outputs": [],
   "source": [
    "#property_type = pd.read_csv('cleanedTable/property_type.csv')\n",
    "cancellation_policy['cancellation_policy_id'] = cancellation_policy.index\n",
    "cancellation_policy = cancellation_policy[['cancellation_policy_id', 'cancellation_policy']]\n",
    "cancellation_policy.to_csv(\"cleanedTable/cancellation_policy.csv\",index=False)\n",
    "cancellation_policy_col = ['id', 'cancellation_policy']\n",
    "#bed_id_type = listings[bed_col].drop_duplicates().to_csv(\"cleanedTable/bed_type.csv\",index=False)\n",
    "hasCancellation = listings[cancellation_policy_col].drop_duplicates()\n",
    "hasCancellation = pd.merge(hasCancellation, cancellation_policy, on='cancellation_policy')\n",
    "hasCancellation.drop(columns='cancellation_policy').to_csv(\"cleanedTable/hasCancellation.csv\",index=False)"
   ]
  },
  {
   "cell_type": "code",
   "execution_count": 126,
   "metadata": {},
   "outputs": [],
   "source": [
    "own_col = [\"id\",\"host_id\",\"review_scores_rating\", \"cleaning_fee\", \n",
    "\"minimum_nights\", \"square_feet\", \"review_scores_cleanliness\", \"review_scores_accuracy\", \n",
    "\"review_scores_value\", \"review_scores_location\", \"require_guest_phone_verification\",\n",
    "\"price\", \"accommodates\", \"security_deposit\",\n",
    "\"review_scores_checkin\", \"review_scores_communication\", \"maximum_nights\", \"guests_included\",\n",
    "\"monthly_price\", \"bathrooms\", \"bedrooms\", \"weekly_price\", \"extra_people\",\n",
    "\"property_type\",\"is_business_travel_ready\",\n",
    "\"longitude\", \"latitude\", \"cancellation_policy\", \"house_rules\", \"summary\", \"transit\", \"amenities\",\n",
    "\"space\", \"access\", \"neighborhood_overview\", \"picture_url\", \"notes\"]\n"
   ]
  },
  {
   "cell_type": "code",
   "execution_count": 92,
   "metadata": {},
   "outputs": [],
   "source": [
    "listings = pandas.read_csv('cleanedTable/listings.csv')"
   ]
  },
  {
   "cell_type": "code",
   "execution_count": 98,
   "metadata": {},
   "outputs": [],
   "source": [
    "listings[own_col].to_csv(\"cleanedTable/own.csv\",index=False)"
   ]
  },
  {
   "cell_type": "code",
   "execution_count": 127,
   "metadata": {},
   "outputs": [],
   "source": [
    "own = listings[own_col]"
   ]
  },
  {
   "cell_type": "code",
   "execution_count": 40,
   "metadata": {},
   "outputs": [],
   "source": [
    "listings['property_type'].to_frame().drop_duplicates().to_csv(\"cleanedTable/property_type.csv\",index=False)"
   ]
  },
  {
   "cell_type": "code",
   "execution_count": 41,
   "metadata": {},
   "outputs": [],
   "source": [
    "listings['room_type'].to_frame().drop_duplicates().to_csv(\"cleanedTable/room_type.csv\",index=False)"
   ]
  },
  {
   "cell_type": "code",
   "execution_count": 42,
   "metadata": {},
   "outputs": [],
   "source": [
    "calendar = pandas.read_csv('cleanedTable/calendar.csv')"
   ]
  },
  {
   "cell_type": "code",
   "execution_count": null,
   "metadata": {},
   "outputs": [],
   "source": [
    "# amenities"
   ]
  },
  {
   "cell_type": "code",
   "execution_count": 2,
   "metadata": {},
   "outputs": [],
   "source": [
    "listing = pd.read_csv(\"cleanedTable/listing.csv\")"
   ]
  },
  {
   "cell_type": "code",
   "execution_count": 3,
   "metadata": {},
   "outputs": [],
   "source": [
    "col_amenities = ['id', 'amenities']\n",
    "amen = listing[col_amenities]"
   ]
  },
  {
   "cell_type": "code",
   "execution_count": 5,
   "metadata": {},
   "outputs": [
    {
     "name": "stderr",
     "output_type": "stream",
     "text": [
      "/home/cuimingbo/software/anaconda/lib/python3.6/site-packages/ipykernel_launcher.py:1: SettingWithCopyWarning: \n",
      "A value is trying to be set on a copy of a slice from a DataFrame.\n",
      "Try using .loc[row_indexer,col_indexer] = value instead\n",
      "\n",
      "See the caveats in the documentation: http://pandas.pydata.org/pandas-docs/stable/indexing.html#indexing-view-versus-copy\n",
      "  \"\"\"Entry point for launching an IPython kernel.\n",
      "/home/cuimingbo/software/anaconda/lib/python3.6/site-packages/ipykernel_launcher.py:2: SettingWithCopyWarning: \n",
      "A value is trying to be set on a copy of a slice from a DataFrame.\n",
      "Try using .loc[row_indexer,col_indexer] = value instead\n",
      "\n",
      "See the caveats in the documentation: http://pandas.pydata.org/pandas-docs/stable/indexing.html#indexing-view-versus-copy\n",
      "  \n",
      "/home/cuimingbo/software/anaconda/lib/python3.6/site-packages/ipykernel_launcher.py:3: SettingWithCopyWarning: \n",
      "A value is trying to be set on a copy of a slice from a DataFrame.\n",
      "Try using .loc[row_indexer,col_indexer] = value instead\n",
      "\n",
      "See the caveats in the documentation: http://pandas.pydata.org/pandas-docs/stable/indexing.html#indexing-view-versus-copy\n",
      "  This is separate from the ipykernel package so we can avoid doing imports until\n"
     ]
    }
   ],
   "source": [
    "amen['amenities'] = amen['amenities'].str.replace('{', '')\n",
    "amen['amenities'] = amen['amenities'].str.replace('}', '')\n",
    "amen['amenities'] = amen['amenities'].str.replace('\"', '')"
   ]
  },
  {
   "cell_type": "code",
   "execution_count": 7,
   "metadata": {},
   "outputs": [],
   "source": [
    "s=['amenities']\n",
    "amen1=amen.drop(columns=s,axis=1)\n",
    "for x in s:\n",
    "    amen1=amen1.join(amen[x].str.split(',',expand=True).stack().reset_index(level=1,drop=True).rename(x))\n",
    "amen1=amen1.reset_index(drop=True)"
   ]
  },
  {
   "cell_type": "code",
   "execution_count": 2,
   "metadata": {},
   "outputs": [],
   "source": [
    "listing = pd.read_csv(\"/home/cuimingbo/Downloads/database_data/listing.csv\")"
   ]
  },
  {
   "cell_type": "code",
   "execution_count": 3,
   "metadata": {},
   "outputs": [],
   "source": [
    "listing = listing.drop(columns='amenities')"
   ]
  },
  {
   "cell_type": "code",
   "execution_count": 10,
   "metadata": {},
   "outputs": [],
   "source": [
    "listing_amen = pd.merge(listing, amen1, on=\"id\")"
   ]
  },
  {
   "cell_type": "code",
   "execution_count": 11,
   "metadata": {},
   "outputs": [],
   "source": [
    "amenities_type = pd.read_csv(\"cleanedTable/amenities_type.csv\")"
   ]
  },
  {
   "cell_type": "code",
   "execution_count": 13,
   "metadata": {},
   "outputs": [],
   "source": [
    "listing_amen = pd.merge(listing_amen, amenities_type, on=\"amenities\")"
   ]
  },
  {
   "cell_type": "code",
   "execution_count": 17,
   "metadata": {},
   "outputs": [],
   "source": [
    "listing_amen = listing_amen.drop(columns='amenities')"
   ]
  },
  {
   "cell_type": "code",
   "execution_count": 4,
   "metadata": {},
   "outputs": [],
   "source": [
    "listing_amen = listing"
   ]
  },
  {
   "cell_type": "code",
   "execution_count": 5,
   "metadata": {},
   "outputs": [],
   "source": [
    "listing_amen['cleaning_fee'] = listing_amen['cleaning_fee'].str.replace('$','')"
   ]
  },
  {
   "cell_type": "code",
   "execution_count": 6,
   "metadata": {},
   "outputs": [],
   "source": [
    "listing_amen['cleaning_fee'] = listing_amen['cleaning_fee'].fillna(-999)"
   ]
  },
  {
   "cell_type": "code",
   "execution_count": 7,
   "metadata": {},
   "outputs": [],
   "source": [
    "listing_amen['price'] = listing_amen['price'].str.replace('$','')\n",
    "listing_amen['price']  = listing_amen['price'] .fillna(-999)"
   ]
  },
  {
   "cell_type": "code",
   "execution_count": 8,
   "metadata": {},
   "outputs": [],
   "source": [
    "listing_amen['security_deposit'] = listing_amen['security_deposit'].str.replace('$','')\n",
    "listing_amen['security_deposit'] = listing_amen['security_deposit'].fillna(-999)"
   ]
  },
  {
   "cell_type": "code",
   "execution_count": 9,
   "metadata": {},
   "outputs": [],
   "source": [
    "listing_amen['extra_people'] = listing_amen['extra_people'].str.replace('$','')\n",
    "listing_amen['extra_people'] = listing_amen['extra_people'].fillna(-999)"
   ]
  },
  {
   "cell_type": "code",
   "execution_count": 11,
   "metadata": {},
   "outputs": [],
   "source": [
    "listing_amen.to_csv(\"cleanedTable/listing.csv\")"
   ]
  },
  {
   "cell_type": "code",
   "execution_count": 12,
   "metadata": {},
   "outputs": [],
   "source": [
    "host = pd.read_csv(\"cleanedTable/host.csv\")"
   ]
  },
  {
   "cell_type": "code",
   "execution_count": 16,
   "metadata": {},
   "outputs": [],
   "source": [
    "host['host_response_rate'] = host['host_response_rate'].str.replace('%','')"
   ]
  },
  {
   "cell_type": "code",
   "execution_count": 19,
   "metadata": {},
   "outputs": [],
   "source": [
    "host['host_response_rate'] = host['host_response_rate'].str.replace('-1','-999')"
   ]
  },
  {
   "cell_type": "code",
   "execution_count": 21,
   "metadata": {},
   "outputs": [],
   "source": [
    "host.to_csv(\"cleanedTable/host.csv\")"
   ]
  },
  {
   "cell_type": "code",
   "execution_count": 266,
   "metadata": {},
   "outputs": [],
   "source": [
    "amen_type = amen1['amenities'].drop_duplicates().to_frame().reset_index()\n",
    "amen_type = amen_type.drop(columns='index').reset_index().rename(columns={'index': 'amenities_id'})"
   ]
  },
  {
   "cell_type": "code",
   "execution_count": 267,
   "metadata": {},
   "outputs": [],
   "source": [
    "amen_type.to_csv(\"cleanedTable/amenities_type.csv\",index=False)"
   ]
  },
  {
   "cell_type": "code",
   "execution_count": 268,
   "metadata": {},
   "outputs": [],
   "source": [
    "hasAmenities = pd.merge(amen1, amen_type, on='amenities')\n",
    "hasAmenities.drop(columns='amenities').to_csv(\"cleanedTable/hasAmenities.csv\",index=False)"
   ]
  },
  {
   "cell_type": "code",
   "execution_count": 177,
   "metadata": {},
   "outputs": [],
   "source": [
    "col_ver = ['host_id', 'host_verifications']\n",
    "host_ver = listings[col_ver]"
   ]
  },
  {
   "cell_type": "code",
   "execution_count": null,
   "metadata": {},
   "outputs": [],
   "source": [
    "host_ver['host_verifications'] = host_ver['host_verifications'].str.replace('\\'', '')\n",
    "host_ver['host_verifications'] = host_ver['host_verifications'].str.replace(']', '')\n",
    "host_ver['host_verifications'] = host_ver['host_verifications'].str.replace('[', '')"
   ]
  },
  {
   "cell_type": "code",
   "execution_count": 179,
   "metadata": {},
   "outputs": [],
   "source": [
    "s=['host_verifications']\n",
    "host_ver1=host_ver.drop(columns=s,axis=1)\n",
    "for x in s:\n",
    "    host_ver1=host_ver1.join(host_ver[x].str.split(',',expand=True).stack().reset_index(level=1,drop=True).rename(x))\n",
    "host_ver1=host_ver1.reset_index(drop=True)"
   ]
  },
  {
   "cell_type": "code",
   "execution_count": 185,
   "metadata": {},
   "outputs": [],
   "source": [
    "verification_type = host_ver1['host_verifications'].drop_duplicates().to_frame().reset_index()\n",
    "verification_type = verification_type.drop(columns='index').reset_index()"
   ]
  },
  {
   "cell_type": "code",
   "execution_count": 186,
   "metadata": {},
   "outputs": [],
   "source": [
    "verification_type.columns=['verification_id','host_verifications']\n",
    "verification_type.to_csv(\"cleanedTable/verification_type.csv\",index=False)\n",
    "hasVerification = pd.merge(host_ver1, verification_type, on='host_verifications')\n",
    "hasVerification.drop(columns='host_verifications').to_csv(\"cleanedTable/hasVerification.csv\",index=False)"
   ]
  },
  {
   "cell_type": "code",
   "execution_count": 19,
   "metadata": {},
   "outputs": [],
   "source": [
    "verification_type= pd.read_csv(\"cleanedTable/verification_type.csv\")"
   ]
  },
  {
   "cell_type": "code",
   "execution_count": 23,
   "metadata": {},
   "outputs": [],
   "source": [
    "verification_type['host_verifications'] = verification_type['host_verifications'].str.strip().fillna('none')"
   ]
  },
  {
   "cell_type": "code",
   "execution_count": 24,
   "metadata": {},
   "outputs": [],
   "source": [
    "verification_type.to_csv(\"cleanedTable/host_verification.csv\",index=False)"
   ]
  },
  {
   "cell_type": "code",
   "execution_count": 210,
   "metadata": {},
   "outputs": [],
   "source": [
    "# neighborhood\n",
    "neighbor_col = ['id', 'neighbourhood']\n",
    "city_col = ['id', 'city']\n",
    "country_col = ['id', 'country', 'country_code']\n",
    "neighborhood = listings[neighbor_col]\n",
    "city = listings[city_col]\n",
    "country = listings[country_col]"
   ]
  },
  {
   "cell_type": "code",
   "execution_count": 205,
   "metadata": {},
   "outputs": [],
   "source": [
    "country.drop(columns = 'id').drop_duplicates().to_csv(\"cleanedTable/country.csv\",index=False)"
   ]
  },
  {
   "cell_type": "code",
   "execution_count": 213,
   "metadata": {},
   "outputs": [],
   "source": [
    "city_entity = city.drop(columns='id').drop_duplicates()#.to_csv(\"cleanedTable/city.csv\",index=False)"
   ]
  },
  {
   "cell_type": "code",
   "execution_count": 215,
   "metadata": {},
   "outputs": [],
   "source": [
    "city_entity = city_entity.reset_index().drop(columns='index').reset_index()"
   ]
  },
  {
   "cell_type": "code",
   "execution_count": 221,
   "metadata": {},
   "outputs": [],
   "source": [
    "city_entity.rename(columns={'index': 'city_code'}).to_csv(\"cleanedTable/city.csv\",index=False)"
   ]
  },
  {
   "cell_type": "code",
   "execution_count": 224,
   "metadata": {},
   "outputs": [],
   "source": [
    "city_entity = city_entity.rename(columns={'index': 'city_code'})"
   ]
  },
  {
   "cell_type": "code",
   "execution_count": 225,
   "metadata": {},
   "outputs": [],
   "source": [
    "col = ['id', 'city', 'country','country_code']\n",
    "located_country = pd.merge(listings[col],city_entity,on='city')"
   ]
  },
  {
   "cell_type": "code",
   "execution_count": 229,
   "metadata": {},
   "outputs": [],
   "source": [
    "located_country.drop(columns=['id','city','country']).drop_duplicates().to_csv(\"cleanedTable/located_country.csv\",index=False)"
   ]
  },
  {
   "cell_type": "code",
   "execution_count": 247,
   "metadata": {},
   "outputs": [],
   "source": [
    "listings['neighbourhood'].to_frame().drop_duplicates().reset_index().drop(columns='index').reset_index().rename(columns={'index': 'neighbourhood_id'}).to_csv(\"cleanedTable/neighbourhood.csv\",index=False)"
   ]
  },
  {
   "cell_type": "code",
   "execution_count": 248,
   "metadata": {},
   "outputs": [],
   "source": [
    "neighbor_aux = listings['neighbourhood'].to_frame().drop_duplicates().reset_index().drop(columns='index').reset_index().rename(columns={'index': 'neighbourhood_id'})"
   ]
  },
  {
   "cell_type": "code",
   "execution_count": 250,
   "metadata": {},
   "outputs": [],
   "source": [
    "col_located_city = ['id','neighbourhood','city']\n",
    "located_city = pd.merge(listings[col_located_city],neighbor_aux,on='neighbourhood')"
   ]
  },
  {
   "cell_type": "code",
   "execution_count": 254,
   "metadata": {},
   "outputs": [],
   "source": [
    "city_ = pd.read_csv(\"cleanedTable/city.csv\")\n",
    "located_city2 = pd.merge(located_city, city_, on='city')"
   ]
  },
  {
   "cell_type": "code",
   "execution_count": 257,
   "metadata": {},
   "outputs": [],
   "source": [
    "located_city2.drop(columns=['id','neighbourhood','city']).to_csv(\"cleanedTable/locatedCity.csv\",index=False)"
   ]
  },
  {
   "cell_type": "code",
   "execution_count": 260,
   "metadata": {},
   "outputs": [],
   "source": [
    "neighb_col = ['id','neighbourhood']\n",
    "neighbor = pd.read_csv('cleanedTable/neighbourhood.csv')\n",
    "pd.merge(listings[neighbor_col],neighbor,on='neighbourhood').drop(columns='neighbourhood').to_csv(\"cleanedTable/locatedNeighborhood.csv\",index=False)"
   ]
  },
  {
   "cell_type": "code",
   "execution_count": 269,
   "metadata": {},
   "outputs": [],
   "source": [
    "reviews = pd.read_csv('cleanedTable/reviews.csv')"
   ]
  },
  {
   "cell_type": "code",
   "execution_count": 274,
   "metadata": {},
   "outputs": [],
   "source": [
    "reviewer_col = ['reviewer_id', 'reviewer_name']\n",
    "reviewer = reviews[reviewer_col].drop_duplicates()"
   ]
  },
  {
   "cell_type": "code",
   "execution_count": 276,
   "metadata": {},
   "outputs": [],
   "source": [
    "reviewer.to_csv(\"cleanedTable/reviewer.csv\",index=False)"
   ]
  },
  {
   "cell_type": "code",
   "execution_count": 281,
   "metadata": {},
   "outputs": [],
   "source": [
    "reviewed_col = ['id','reviewer_id','listing_id','date','comments']\n",
    "reviewed = reviews[reviewed_col]"
   ]
  },
  {
   "cell_type": "code",
   "execution_count": 283,
   "metadata": {},
   "outputs": [],
   "source": [
    "reviewed.to_csv(\"cleanedTable/reviewed.csv\",index=False)"
   ]
  },
  {
   "cell_type": "code",
   "execution_count": null,
   "metadata": {},
   "outputs": [],
   "source": [
    "response_col = ['host_id','host_response_time']\n",
    "listings[response_col]"
   ]
  },
  {
   "cell_type": "code",
   "execution_count": 297,
   "metadata": {},
   "outputs": [],
   "source": [
    "response_type = listings['host_response_time'].drop_duplicates().to_frame().reset_index().drop(columns='index').reset_index().rename(columns={'index': 'response_id'})"
   ]
  },
  {
   "cell_type": "code",
   "execution_count": 9,
   "metadata": {},
   "outputs": [],
   "source": [
    "response_type = pd.read_csv(\"cleanedTable/response_type.csv\")\n",
    "response_type = response_type.fillna(\"none\")"
   ]
  },
  {
   "cell_type": "code",
   "execution_count": 11,
   "metadata": {},
   "outputs": [],
   "source": [
    "response_type.to_csv(\"cleanedTable/response_type.csv\",index=False)"
   ]
  },
  {
   "cell_type": "code",
   "execution_count": 303,
   "metadata": {},
   "outputs": [],
   "source": [
    "hasResponse = pd.merge(listings[response_col],response_type, on='host_response_time').drop(columns='host_response_time')"
   ]
  },
  {
   "cell_type": "code",
   "execution_count": 304,
   "metadata": {},
   "outputs": [],
   "source": [
    "hasResponse.to_csv(\"cleanedTable/hasResponse.csv\",index=False)"
   ]
  },
  {
   "cell_type": "code",
   "execution_count": 34,
   "metadata": {},
   "outputs": [],
   "source": [
    "listings = pandas.read_csv('cleanedTable/listings.csv')"
   ]
  },
  {
   "cell_type": "code",
   "execution_count": 35,
   "metadata": {},
   "outputs": [],
   "source": [
    "host_col = [\"host_id\",\"host_name\",\"host_since\",\"host_about\",\"host_picture_url\",\n",
    "\"host_thumbnail_url\",\"host_neighbourhood\",\"host_url\",\"host_response_rate\"]"
   ]
  },
  {
   "cell_type": "code",
   "execution_count": 44,
   "metadata": {},
   "outputs": [],
   "source": [
    "host = listings[host_col]"
   ]
  },
  {
   "cell_type": "code",
   "execution_count": null,
   "metadata": {},
   "outputs": [],
   "source": [
    "host['host_response_rate'] = host['host_response_rate'].fillna(\"-1%\")"
   ]
  },
  {
   "cell_type": "code",
   "execution_count": 46,
   "metadata": {},
   "outputs": [],
   "source": [
    "host.to_csv(\"cleanedTable/host.csv\",index=False)"
   ]
  },
  {
   "cell_type": "code",
   "execution_count": 47,
   "metadata": {},
   "outputs": [],
   "source": [
    "calendar = pd.read_csv(\"cleanedTable/calendar.csv\")"
   ]
  },
  {
   "cell_type": "code",
   "execution_count": 48,
   "metadata": {},
   "outputs": [
    {
     "data": {
      "text/html": [
       "<div>\n",
       "<style scoped>\n",
       "    .dataframe tbody tr th:only-of-type {\n",
       "        vertical-align: middle;\n",
       "    }\n",
       "\n",
       "    .dataframe tbody tr th {\n",
       "        vertical-align: top;\n",
       "    }\n",
       "\n",
       "    .dataframe thead th {\n",
       "        text-align: right;\n",
       "    }\n",
       "</style>\n",
       "<table border=\"1\" class=\"dataframe\">\n",
       "  <thead>\n",
       "    <tr style=\"text-align: right;\">\n",
       "      <th></th>\n",
       "      <th>listing_id</th>\n",
       "      <th>date</th>\n",
       "      <th>available</th>\n",
       "      <th>price</th>\n",
       "    </tr>\n",
       "  </thead>\n",
       "  <tbody>\n",
       "    <tr>\n",
       "      <th>0</th>\n",
       "      <td>19864</td>\n",
       "      <td>2019-11-06</td>\n",
       "      <td>t</td>\n",
       "      <td>$48.00</td>\n",
       "    </tr>\n",
       "    <tr>\n",
       "      <th>1</th>\n",
       "      <td>19864</td>\n",
       "      <td>2019-11-05</td>\n",
       "      <td>t</td>\n",
       "      <td>$48.00</td>\n",
       "    </tr>\n",
       "    <tr>\n",
       "      <th>2</th>\n",
       "      <td>19864</td>\n",
       "      <td>2019-11-04</td>\n",
       "      <td>t</td>\n",
       "      <td>$71.00</td>\n",
       "    </tr>\n",
       "    <tr>\n",
       "      <th>3</th>\n",
       "      <td>19864</td>\n",
       "      <td>2019-11-03</td>\n",
       "      <td>t</td>\n",
       "      <td>$77.00</td>\n",
       "    </tr>\n",
       "    <tr>\n",
       "      <th>4</th>\n",
       "      <td>19864</td>\n",
       "      <td>2019-11-02</td>\n",
       "      <td>t</td>\n",
       "      <td>$80.00</td>\n",
       "    </tr>\n",
       "  </tbody>\n",
       "</table>\n",
       "</div>"
      ],
      "text/plain": [
       "   listing_id        date available   price\n",
       "0       19864  2019-11-06         t  $48.00\n",
       "1       19864  2019-11-05         t  $48.00\n",
       "2       19864  2019-11-04         t  $71.00\n",
       "3       19864  2019-11-03         t  $77.00\n",
       "4       19864  2019-11-02         t  $80.00"
      ]
     },
     "execution_count": 48,
     "metadata": {},
     "output_type": "execute_result"
    }
   ],
   "source": [
    "calendar.head()"
   ]
  },
  {
   "cell_type": "code",
   "execution_count": 69,
   "metadata": {},
   "outputs": [],
   "source": [
    "neighbourhood = listings['neighbourhood'].drop_duplicates().to_frame().reset_index().drop(columns='index').reset_index().rename(columns={'index': 'neighbourhood_id'})"
   ]
  },
  {
   "cell_type": "code",
   "execution_count": 70,
   "metadata": {},
   "outputs": [],
   "source": [
    "neighbourhood.to_csv(\"cleanedTable/neighbourhood.csv\",index=False)"
   ]
  },
  {
   "cell_type": "code",
   "execution_count": 71,
   "metadata": {},
   "outputs": [],
   "source": [
    "city = listings['city'].drop_duplicates().to_frame().reset_index().drop(columns='index').reset_index().rename(columns={'index': 'city_id'})"
   ]
  },
  {
   "cell_type": "code",
   "execution_count": 72,
   "metadata": {},
   "outputs": [],
   "source": [
    "city.to_csv(\"cleanedTable/city.csv\",index=False)"
   ]
  },
  {
   "cell_type": "code",
   "execution_count": 73,
   "metadata": {},
   "outputs": [],
   "source": [
    "country = listings['country'].drop_duplicates().to_frame().reset_index().drop(columns='index').reset_index().rename(columns={'index': 'country_id'})"
   ]
  },
  {
   "cell_type": "code",
   "execution_count": 74,
   "metadata": {},
   "outputs": [],
   "source": [
    "country.to_csv(\"cleanedTable/country.csv\",index=False)"
   ]
  },
  {
   "cell_type": "code",
   "execution_count": 75,
   "metadata": {},
   "outputs": [],
   "source": [
    "listing_col = [\"id\",\"host_id\",\"name\",\"review_scores_rating\", \"cleaning_fee\", \n",
    "\"minimum_nights\", \"square_feet\", \"review_scores_cleanliness\", \"review_scores_accuracy\", \n",
    "\"review_scores_value\", \"review_scores_location\", \"require_guest_phone_verification\",\n",
    "\"price\", \"accommodates\", \"security_deposit\",\n",
    "\"review_scores_checkin\", \"review_scores_communication\", \"maximum_nights\", \"guests_included\",\n",
    "\"monthly_price\", \"bathrooms\", \"bedrooms\", \"weekly_price\", \"extra_people\",\n",
    "\"property_type\",\"room_type\",\"bed_type\",\"cancellation_policy\",\"neighbourhood\",\"city\",\"country\",\n",
    "\"is_business_travel_ready\",\n",
    "\"longitude\", \"latitude\", \"house_rules\", \"summary\", \"transit\", \"amenities\",\n",
    "\"space\", \"access\", \"neighborhood_overview\", \"picture_url\", \"notes\"]"
   ]
  },
  {
   "cell_type": "code",
   "execution_count": 76,
   "metadata": {},
   "outputs": [],
   "source": [
    "listing = listings[listing_col]"
   ]
  },
  {
   "cell_type": "code",
   "execution_count": 77,
   "metadata": {},
   "outputs": [],
   "source": [
    "#merge listing and cancellation\n",
    "cancellation = pd.read_csv(\"cleanedTable/cancellation_policy.csv\")\n",
    "l_ca = pd.merge(listing, cancellation,on=\"cancellation_policy\")"
   ]
  },
  {
   "cell_type": "code",
   "execution_count": 82,
   "metadata": {},
   "outputs": [],
   "source": [
    "# merge room_type\n",
    "room = pd.read_csv(\"cleanedTable/room_type.csv\")\n",
    "l_ca_rm = pd.merge(l_ca, room, on=\"room_type\")"
   ]
  },
  {
   "cell_type": "code",
   "execution_count": 83,
   "metadata": {},
   "outputs": [],
   "source": [
    "# merge bed type\n",
    "bed = pd.read_csv(\"cleanedTable/bed_type.csv\")\n",
    "l_ca_rm_bed = pd.merge(l_ca_rm, bed, on=\"bed_type\")"
   ]
  },
  {
   "cell_type": "code",
   "execution_count": 84,
   "metadata": {},
   "outputs": [],
   "source": [
    "# merge property——type\n",
    "proper = pd.read_csv(\"cleanedTable/property_type.csv\")\n",
    "l_ca_rm_bed_proper = pd.merge(l_ca_rm_bed, proper, on=\"property_type\")"
   ]
  },
  {
   "cell_type": "code",
   "execution_count": 86,
   "metadata": {},
   "outputs": [],
   "source": [
    "# merge neighbor\n",
    "nei = pd.read_csv(\"cleanedTable/neighbourhood.csv\")\n",
    "l_ca_rm_bed_proper_nei = pd.merge(l_ca_rm_bed_proper, nei, on=\"neighbourhood\")"
   ]
  },
  {
   "cell_type": "code",
   "execution_count": 87,
   "metadata": {},
   "outputs": [],
   "source": [
    "# merge neighbor\n",
    "ct = pd.read_csv(\"cleanedTable/city.csv\")\n",
    "l_ca_rm_bed_proper_nei_city = pd.merge(l_ca_rm_bed_proper_nei, ct, on=\"city\")"
   ]
  },
  {
   "cell_type": "code",
   "execution_count": 88,
   "metadata": {},
   "outputs": [],
   "source": [
    "# merge neighbor\n",
    "count = pd.read_csv(\"cleanedTable/country.csv\")\n",
    "l_ca_rm_bed_proper_nei_city_count = pd.merge(l_ca_rm_bed_proper_nei_city, count, on=\"country\")"
   ]
  },
  {
   "cell_type": "code",
   "execution_count": 91,
   "metadata": {},
   "outputs": [],
   "source": [
    "drop_col = [\"cancellation_policy\",\"room_type\",\"bed_type\",\"property_type\",\"neighbourhood\",\"country\",\"city\"]"
   ]
  },
  {
   "cell_type": "code",
   "execution_count": 101,
   "metadata": {},
   "outputs": [],
   "source": [
    "merged_listing = l_ca_rm_bed_proper_nei_city_count.drop(columns = drop_col)"
   ]
  },
  {
   "cell_type": "code",
   "execution_count": 103,
   "metadata": {},
   "outputs": [],
   "source": [
    "merged_listing.to_csv(\"cleanedTable/listing.csv\",index=False)"
   ]
  },
  {
   "cell_type": "code",
   "execution_count": null,
   "metadata": {},
   "outputs": [],
   "source": []
  }
 ],
 "metadata": {
  "kernelspec": {
   "display_name": "Python 3",
   "language": "python",
   "name": "python3"
  },
  "language_info": {
   "codemirror_mode": {
    "name": "ipython",
    "version": 3
   },
   "file_extension": ".py",
   "mimetype": "text/x-python",
   "name": "python",
   "nbconvert_exporter": "python",
   "pygments_lexer": "ipython3",
   "version": "3.6.8"
  }
 },
 "nbformat": 4,
 "nbformat_minor": 2
}
