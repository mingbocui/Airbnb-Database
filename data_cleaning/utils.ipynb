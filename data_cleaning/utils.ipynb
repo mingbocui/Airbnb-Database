{
 "cells": [
  {
   "cell_type": "code",
   "execution_count": 1,
   "metadata": {},
   "outputs": [],
   "source": [
    "import pandas as pd\n",
    "import pandas\n",
    "import numpy as np\n",
    "import glob\n",
    "import csv\n",
    "# merge all data into 3 csv file\n",
    "listings_list = glob.glob('airbnb/*listings.csv')\n",
    "calendar_list = glob.glob('airbnb/*calendar.csv')\n",
    "reviews_list = glob.glob('airbnb/*reviews.csv')\n",
    "\n",
    "combined_listings_csv = pd.concat([pd.read_csv(f) for f in listings_list])\n",
    "combined_listings_csv.to_csv( \"cleanedTable/listings.csv\", index=False)\n",
    "combined_calendar_csv = pd.concat([pd.read_csv(f) for f in calendar_list])\n",
    "combined_calendar_csv.to_csv( \"cleanedTable/calendar.csv\", index=False)\n",
    "\n",
    "combined_reviews_csv = pd.concat([pd.read_csv(f) for f in reviews_list])\n",
    "combined_reviews_csv.to_csv( \"cleanedTable/reviews.csv\", index=False)"
   ]
  },
  {
   "cell_type": "code",
   "execution_count": 6,
   "metadata": {},
   "outputs": [],
   "source": [
    "#data cleaning for city\n",
    "listings = pandas.read_csv('cleanedTable/listings.csv')\n",
    "listings.loc[listings['city'].str.lower().str.contains('arcel') == True,'city'] = 'Barcelona'\n",
    "listings.loc[listings['city'].str.contains('Барселона') == True,'city'] = 'Barcelona'\n",
    "listings.loc[listings['city'].str.lower().str.contains('berlin') == True,'city'] = 'Berlin'\n",
    "listings.loc[listings['city'].str.lower().str.contains('madr') == True,'city'] = 'Madrid'\n",
    "listings.loc[listings['city'].str.contains('Berlín') == True,'city'] = 'Berlin'\n",
    "listings.loc[listings['city'].str.contains('Βερολίνο') == True,'city'] = 'Berlin'\n",
    "listings.loc[listings['city'].str.contains(\"L'Hospitalet de Llobregat\") == True,'city'] = 'Hospitalet de Llobregat'\n",
    "# neighbourhood is clean enough\n",
    "# data cleaning for country, replacing city name with corresponding city name\n",
    "listings.loc[listings['country'].str.contains(\"Barcelona\") == True,'country'] = 'Spain'\n",
    "listings.loc[listings['country'].str.contains(\"Hospitalet de Llobregat\") == True,'country'] = 'Spain'\n",
    "listings.loc[listings['country'].str.contains(\"Madrid\") == True,'country'] = 'Spain'\n",
    "listings.loc[listings['country'].str.contains(\"Berlin\") == True,'country'] = 'Germany'\n"
   ]
  },
  {
   "cell_type": "code",
   "execution_count": 12,
   "metadata": {},
   "outputs": [],
   "source": [
    "listings['neighbourhood'] = listings['neighbourhood'].fillna('none')\n",
    "listings['city'] = listings['city'].fillna('none')\n",
    "listings['country'] = listings['country'].fillna('none')\n",
    "listings.to_csv(\"cleanedTable/listings.csv\",index=False)"
   ]
  },
  {
   "cell_type": "code",
   "execution_count": null,
   "metadata": {},
   "outputs": [],
   "source": []
  }
 ],
 "metadata": {
  "kernelspec": {
   "display_name": "Python 3",
   "language": "python",
   "name": "python3"
  },
  "language_info": {
   "codemirror_mode": {
    "name": "ipython",
    "version": 3
   },
   "file_extension": ".py",
   "mimetype": "text/x-python",
   "name": "python",
   "nbconvert_exporter": "python",
   "pygments_lexer": "ipython3",
   "version": "3.6.8"
  }
 },
 "nbformat": 4,
 "nbformat_minor": 2
}
