{
 "cells": [
  {
   "cell_type": "code",
   "execution_count": 2,
   "metadata": {},
   "outputs": [],
   "source": [
    "import pandas as pd\n",
    "import pandas\n",
    "import numpy as np\n",
    "import glob\n",
    "import csv"
   ]
  },
  {
   "cell_type": "code",
   "execution_count": 14,
   "metadata": {},
   "outputs": [],
   "source": [
    "barcelona = pd.read_csv(\"airbnb/barcelona_listings.csv\")\n",
    "barcelona['CITY'] = 0\n",
    "col_barcelona = ['id','neighbourhood','CITY']"
   ]
  },
  {
   "cell_type": "code",
   "execution_count": 15,
   "metadata": {},
   "outputs": [],
   "source": [
    "barcelona_listing = barcelona[col_barcelona]"
   ]
  },
  {
   "cell_type": "code",
   "execution_count": 17,
   "metadata": {},
   "outputs": [],
   "source": [
    "berlin = pd.read_csv(\"airbnb/berlin_listings.csv\")\n",
    "berlin['CITY'] = 2\n",
    "\n",
    "col_berlin = ['id','neighbourhood','CITY']\n",
    "berlin_listing = berlin[col_berlin]"
   ]
  },
  {
   "cell_type": "code",
   "execution_count": 18,
   "metadata": {},
   "outputs": [],
   "source": [
    "madrid = pd.read_csv(\"airbnb/madrid_listings.csv\")\n",
    "madrid['CITY'] = 1\n",
    "col_madrid = ['id','neighbourhood','CITY']\n",
    "madrid_listing = madrid[col_madrid]"
   ]
  },
  {
   "cell_type": "code",
   "execution_count": 21,
   "metadata": {},
   "outputs": [],
   "source": [
    "barcelona_listing.to_csv('airbnb/barcelona_final.csv',index=False)\n",
    "berlin_listing.to_csv('airbnb/berlin_final.csv',index=False)\n",
    "madrid_listing.to_csv('airbnb/madrid_final.csv',index=False)"
   ]
  },
  {
   "cell_type": "code",
   "execution_count": 22,
   "metadata": {},
   "outputs": [],
   "source": [
    "listings_list = glob.glob('airbnb/*final.csv')\n",
    "\n",
    "combined_listings_csv = pd.concat([pd.read_csv(f) for f in listings_list])"
   ]
  },
  {
   "cell_type": "code",
   "execution_count": 23,
   "metadata": {},
   "outputs": [],
   "source": [
    "combined_listings_csv.to_csv('airbnb/barnd_new_listing.csv',index=False)"
   ]
  },
  {
   "cell_type": "code",
   "execution_count": 27,
   "metadata": {},
   "outputs": [],
   "source": [
    "a = [\":\"+str(i)+\",\" for i in range(41)]"
   ]
  },
  {
   "cell_type": "code",
   "execution_count": 29,
   "metadata": {},
   "outputs": [
    {
     "name": "stdout",
     "output_type": "stream",
     "text": [
      "[':0,', ':1,', ':2,', ':3,', ':4,', ':5,', ':6,', ':7,', ':8,', ':9,', ':10,', ':11,', ':12,', ':13,', ':14,', ':15,', ':16,', ':17,', ':18,', ':19,', ':20,', ':21,', ':22,', ':23,', ':24,', ':25,', ':26,', ':27,', ':28,', ':29,', ':30,', ':31,', ':32,', ':33,', ':34,', ':35,', ':36,', ':37,', ':38,', ':39,', ':40,']"
     ]
    }
   ],
   "source": [
    "print(a,end=\"\")"
   ]
  },
  {
   "cell_type": "code",
   "execution_count": null,
   "metadata": {},
   "outputs": [],
   "source": []
  }
 ],
 "metadata": {
  "kernelspec": {
   "display_name": "Python 3",
   "language": "python",
   "name": "python3"
  },
  "language_info": {
   "codemirror_mode": {
    "name": "ipython",
    "version": 3
   },
   "file_extension": ".py",
   "mimetype": "text/x-python",
   "name": "python",
   "nbconvert_exporter": "python",
   "pygments_lexer": "ipython3",
   "version": "3.6.8"
  }
 },
 "nbformat": 4,
 "nbformat_minor": 2
}
