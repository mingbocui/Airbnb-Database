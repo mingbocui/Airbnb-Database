{
 "cells": [
  {
   "cell_type": "code",
   "execution_count": 2,
   "metadata": {},
   "outputs": [],
   "source": [
    "import pandas as pd\n",
    "import pandas\n",
    "import numpy as np\n",
    "import glob\n",
    "import csv"
   ]
  },
  {
   "cell_type": "code",
   "execution_count": 42,
   "metadata": {},
   "outputs": [],
   "source": [
    "listing = pd.read_csv(\"cleanedTable/listing.csv\")"
   ]
  },
  {
   "cell_type": "code",
   "execution_count": 43,
   "metadata": {},
   "outputs": [],
   "source": [
    "brand_new_listing = pd.read_csv(\"airbnb/barnd_new_listing.csv\")"
   ]
  },
  {
   "cell_type": "code",
   "execution_count": 44,
   "metadata": {},
   "outputs": [],
   "source": [
    "merge_listing = pd.merge(listing,brand_new_listing,on='id')"
   ]
  },
  {
   "cell_type": "code",
   "execution_count": 46,
   "metadata": {},
   "outputs": [],
   "source": [
    "neighborhood_listing = merge_listing[['id','neighbourhood']]"
   ]
  },
  {
   "cell_type": "code",
   "execution_count": 59,
   "metadata": {},
   "outputs": [],
   "source": [
    "neighbourhood = neighborhood_listing['neighbourhood'].to_frame().drop_duplicates().reset_index().drop(columns='index').reset_index().rename(columns={'index': 'neighbourhood_id'})"
   ]
  },
  {
   "cell_type": "code",
   "execution_count": 62,
   "metadata": {},
   "outputs": [
    {
     "data": {
      "text/plain": [
       "Index(['id', 'host_id', 'name', 'review_scores_rating', 'cleaning_fee',\n",
       "       'minimum_nights', 'square_feet', 'review_scores_cleanliness',\n",
       "       'review_scores_accuracy', 'review_scores_value',\n",
       "       'review_scores_location', 'require_guest_phone_verification', 'price',\n",
       "       'accommodates', 'security_deposit', 'review_scores_checkin',\n",
       "       'review_scores_communication', 'maximum_nights', 'guests_included',\n",
       "       'monthly_price', 'bathrooms', 'bedrooms', 'weekly_price',\n",
       "       'extra_people', 'is_business_travel_ready', 'longitude', 'latitude',\n",
       "       'house_rules', 'summary', 'transit', 'space', 'access',\n",
       "       'neighborhood_overview', 'picture_url', 'notes',\n",
       "       'cancellation_policy_id', 'room_type_id', 'bed_type_id',\n",
       "       'property_type_id', 'neighbourhood', 'CITY'],\n",
       "      dtype='object')"
      ]
     },
     "execution_count": 62,
     "metadata": {},
     "output_type": "execute_result"
    }
   ],
   "source": [
    "merge_listing.keys()"
   ]
  },
  {
   "cell_type": "code",
   "execution_count": 61,
   "metadata": {},
   "outputs": [],
   "source": [
    "merge_listing = merge_listing.drop(columns=['neighbourhood_id','city_id','country_id'])"
   ]
  },
  {
   "cell_type": "code",
   "execution_count": 63,
   "metadata": {},
   "outputs": [],
   "source": [
    "merge_listing = merge_listing.rename(columns={'CITY': 'city_id'})"
   ]
  },
  {
   "cell_type": "code",
   "execution_count": 64,
   "metadata": {},
   "outputs": [],
   "source": [
    "final_listing = pd.merge(merge_listing,neighbourhood,on='neighbourhood')"
   ]
  },
  {
   "cell_type": "code",
   "execution_count": 65,
   "metadata": {},
   "outputs": [
    {
     "data": {
      "text/plain": [
       "Index(['id', 'host_id', 'name', 'review_scores_rating', 'cleaning_fee',\n",
       "       'minimum_nights', 'square_feet', 'review_scores_cleanliness',\n",
       "       'review_scores_accuracy', 'review_scores_value',\n",
       "       'review_scores_location', 'require_guest_phone_verification', 'price',\n",
       "       'accommodates', 'security_deposit', 'review_scores_checkin',\n",
       "       'review_scores_communication', 'maximum_nights', 'guests_included',\n",
       "       'monthly_price', 'bathrooms', 'bedrooms', 'weekly_price',\n",
       "       'extra_people', 'is_business_travel_ready', 'longitude', 'latitude',\n",
       "       'house_rules', 'summary', 'transit', 'space', 'access',\n",
       "       'neighborhood_overview', 'picture_url', 'notes',\n",
       "       'cancellation_policy_id', 'room_type_id', 'bed_type_id',\n",
       "       'property_type_id', 'neighbourhood', 'city_id', 'neighbourhood_id'],\n",
       "      dtype='object')"
      ]
     },
     "execution_count": 65,
     "metadata": {},
     "output_type": "execute_result"
    }
   ],
   "source": [
    "final_listing"
   ]
  },
  {
   "cell_type": "code",
   "execution_count": 79,
   "metadata": {},
   "outputs": [],
   "source": [
    "final_listing = final_listing.rename(columns={'Name': 'name'})"
   ]
  },
  {
   "cell_type": "code",
   "execution_count": 109,
   "metadata": {},
   "outputs": [],
   "source": [
    "final_listing['security_deposit'] = final_listing['security_deposit'].to_frame().astype(float)"
   ]
  },
  {
   "cell_type": "code",
   "execution_count": 131,
   "metadata": {},
   "outputs": [],
   "source": [
    "col = ['cleaning_fee', 'square_feet', 'price', 'security_deposit', 'monthly_price', 'weekly_price', 'extra_people', 'longitude', 'latitude']"
   ]
  },
  {
   "cell_type": "code",
   "execution_count": null,
   "metadata": {},
   "outputs": [],
   "source": [
    "cols = ['price', 'security_deposit', 'monthly_price', 'weekly_price', 'extra_people', 'longitude', 'latitude']\n",
    "for st in col:\n",
    "    print(st)\n",
    "    final_listing[st] = final_listing[st].str.replace(',','')\n",
    "    final_listing[st] = final_listing[st].to_frame().astype(float)"
   ]
  },
  {
   "cell_type": "code",
   "execution_count": 150,
   "metadata": {},
   "outputs": [],
   "source": [
    "final_listing['monthly_price'] = final_listing['monthly_price'].str.replace(',','')"
   ]
  },
  {
   "cell_type": "code",
   "execution_count": 152,
   "metadata": {},
   "outputs": [],
   "source": [
    "final_listing['monthly_price'] = final_listing['monthly_price'].to_frame().astype(float)"
   ]
  },
  {
   "cell_type": "code",
   "execution_count": 161,
   "metadata": {},
   "outputs": [],
   "source": [
    "final_listing['weekly_price'] = final_listing['weekly_price'].str.replace(',','')"
   ]
  },
  {
   "cell_type": "code",
   "execution_count": 162,
   "metadata": {},
   "outputs": [],
   "source": [
    "final_listing['weekly_price'] = final_listing['weekly_price'].to_frame().astype(float)"
   ]
  },
  {
   "cell_type": "code",
   "execution_count": 3,
   "metadata": {},
   "outputs": [],
   "source": [
    "calendar= pd.read_csv(\"cleanedTable/calendar.csv\")"
   ]
  },
  {
   "cell_type": "code",
   "execution_count": 4,
   "metadata": {},
   "outputs": [],
   "source": [
    "calendar['price'] = calendar['price'].str.replace('$','')\n",
    "calendar['price'] = calendar['price'].str.replace(',','')\n",
    "calendar['price'] = calendar['price'].to_frame().astype(float)"
   ]
  },
  {
   "cell_type": "code",
   "execution_count": 5,
   "metadata": {},
   "outputs": [],
   "source": [
    "calendar.to_csv(\"cleanedTable/calendar.csv\",index=False)"
   ]
  },
  {
   "cell_type": "code",
   "execution_count": 10,
   "metadata": {},
   "outputs": [],
   "source": [
    "listing = pd.read_csv(\"cleanedTable/listing_final.csv\")"
   ]
  },
  {
   "cell_type": "code",
   "execution_count": 11,
   "metadata": {},
   "outputs": [
    {
     "data": {
      "text/plain": [
       "(42083, 40)"
      ]
     },
     "execution_count": 11,
     "metadata": {},
     "output_type": "execute_result"
    }
   ],
   "source": [
    "listing.shape"
   ]
  },
  {
   "cell_type": "code",
   "execution_count": 12,
   "metadata": {},
   "outputs": [
    {
     "data": {
      "text/plain": [
       "(42083, 42)"
      ]
     },
     "execution_count": 12,
     "metadata": {},
     "output_type": "execute_result"
    }
   ],
   "source": [
    "listing = pd.read_csv(\"cleanedTable/listing.csv\")\n",
    "listing.shape"
   ]
  },
  {
   "cell_type": "code",
   "execution_count": 13,
   "metadata": {},
   "outputs": [],
   "source": [
    "import pandas as pd\n",
    "import pandas\n",
    "import numpy as np\n",
    "import glob\n",
    "import csv\n",
    "# merge all data into 3 csv file\n",
    "listings_list = glob.glob('airbnb/*listings.csv')\n",
    "\n",
    "combined_listings_csv = pd.concat([pd.read_csv(f) for f in listings_list])\n"
   ]
  },
  {
   "cell_type": "code",
   "execution_count": 16,
   "metadata": {},
   "outputs": [
    {
     "data": {
      "text/plain": [
       "(42094, 59)"
      ]
     },
     "execution_count": 16,
     "metadata": {},
     "output_type": "execute_result"
    }
   ],
   "source": [
    "combined_listings_csv.drop_duplicates().shape"
   ]
  },
  {
   "cell_type": "code",
   "execution_count": 17,
   "metadata": {},
   "outputs": [],
   "source": [
    "new_listing = pd.read_csv(\"airbnb/barnd_new_listing.csv\")"
   ]
  },
  {
   "cell_type": "code",
   "execution_count": 23,
   "metadata": {},
   "outputs": [],
   "source": [
    "new_listing = new_listing.drop(columns='neighbourhood')"
   ]
  },
  {
   "cell_type": "code",
   "execution_count": 24,
   "metadata": {},
   "outputs": [],
   "source": [
    "listing_NEW = pd.merge(combined_listings_csv,new_listing,on='id')"
   ]
  },
  {
   "cell_type": "code",
   "execution_count": 28,
   "metadata": {},
   "outputs": [
    {
     "data": {
      "text/plain": [
       "(42094, 60)"
      ]
     },
     "execution_count": 28,
     "metadata": {},
     "output_type": "execute_result"
    }
   ],
   "source": [
    "listing_NEW.shape"
   ]
  },
  {
   "cell_type": "code",
   "execution_count": 29,
   "metadata": {},
   "outputs": [],
   "source": [
    "lsiting_abesent = pd.read_csv(\"cleanedTable/listing.csv\")"
   ]
  },
  {
   "cell_type": "code",
   "execution_count": 44,
   "metadata": {},
   "outputs": [],
   "source": [
    "absentlist = set(lsiting_abesent['id'])"
   ]
  },
  {
   "cell_type": "code",
   "execution_count": 45,
   "metadata": {},
   "outputs": [],
   "source": [
    "fullList = set(listing_NEW['id'])"
   ]
  },
  {
   "cell_type": "code",
   "execution_count": 50,
   "metadata": {},
   "outputs": [],
   "source": [
    "cc = list(fullList)"
   ]
  },
  {
   "cell_type": "code",
   "execution_count": 52,
   "metadata": {},
   "outputs": [],
   "source": [
    "aaa = list(fullList-absentlist)"
   ]
  },
  {
   "cell_type": "code",
   "execution_count": 54,
   "metadata": {},
   "outputs": [],
   "source": [
    "absent_listing = listing_NEW.loc[listing_NEW['id'].isin(aaa)]"
   ]
  },
  {
   "cell_type": "code",
   "execution_count": 58,
   "metadata": {},
   "outputs": [],
   "source": [
    "bed_type = pd.read_csv(\"cleanedTable/bed_type.csv\")\n",
    "room_type = pd.read_csv(\"cleanedTable/room_type.csv\")\n",
    "proper_type = pd.read_csv(\"cleanedTable/property_type.csv\")\n",
    "neighbourhood_id = pd.read_csv(\"cleanedTable/neighbour_final.csv\")"
   ]
  },
  {
   "cell_type": "code",
   "execution_count": 59,
   "metadata": {},
   "outputs": [],
   "source": [
    "absent_listing_neigh_id = pd.merge(absent_listing,neighbourhood_id,on='neighbourhood')"
   ]
  },
  {
   "cell_type": "code",
   "execution_count": 61,
   "metadata": {},
   "outputs": [],
   "source": [
    "absent_listing_neigh_id_bed = pd.merge(absent_listing_neigh_id,bed_type,on='bed_type')"
   ]
  },
  {
   "cell_type": "code",
   "execution_count": 62,
   "metadata": {},
   "outputs": [],
   "source": [
    "absent_listing_neigh_id_bed_room = pd.merge(absent_listing_neigh_id_bed,room_type,on='room_type')"
   ]
  },
  {
   "cell_type": "code",
   "execution_count": 107,
   "metadata": {},
   "outputs": [],
   "source": [
    "added_property_type = absent_listing_neigh_id_bed_room['property_type'].to_frame().drop_duplicates().reset_index().drop(columns='index').reset_index().rename(columns={'index': 'property_type_id'})"
   ]
  },
  {
   "cell_type": "code",
   "execution_count": 114,
   "metadata": {},
   "outputs": [],
   "source": [
    "property_type = pd.concat([proper_type,added_property_type]).drop_duplicates().reset_index().drop(columns='index').reset_index().drop(columns='property_type_id').rename(columns={'index': 'property_type_id'})"
   ]
  },
  {
   "cell_type": "code",
   "execution_count": 116,
   "metadata": {},
   "outputs": [],
   "source": [
    "property_type.to_csv(\"cleanedTable/property_type.csv\",index=False)"
   ]
  },
  {
   "cell_type": "code",
   "execution_count": 117,
   "metadata": {},
   "outputs": [],
   "source": [
    "proper_type = property_type"
   ]
  },
  {
   "cell_type": "code",
   "execution_count": 118,
   "metadata": {},
   "outputs": [],
   "source": [
    "absent_listing_neigh_id_bed_room_prop = pd.merge(absent_listing_neigh_id_bed_room,proper_type,on='property_type')"
   ]
  },
  {
   "cell_type": "code",
   "execution_count": 119,
   "metadata": {},
   "outputs": [
    {
     "data": {
      "text/plain": [
       "(11, 65)"
      ]
     },
     "execution_count": 119,
     "metadata": {},
     "output_type": "execute_result"
    }
   ],
   "source": [
    "absent_listing_neigh_id_bed_room_prop.shape"
   ]
  },
  {
   "cell_type": "code",
   "execution_count": 120,
   "metadata": {},
   "outputs": [],
   "source": [
    "cancellation_id = pd.read_csv(\"cleanedTable/cancellation_policy.csv\")\n",
    "absent_listing_neigh_id_bed_room_prop_cance = pd.merge(absent_listing_neigh_id_bed_room_prop,cancellation_id,on='cancellation_policy')"
   ]
  },
  {
   "cell_type": "code",
   "execution_count": 121,
   "metadata": {},
   "outputs": [
    {
     "data": {
      "text/plain": [
       "(11, 66)"
      ]
     },
     "execution_count": 121,
     "metadata": {},
     "output_type": "execute_result"
    }
   ],
   "source": [
    "absent_listing_neigh_id_bed_room_prop_cance.shape"
   ]
  },
  {
   "cell_type": "code",
   "execution_count": null,
   "metadata": {},
   "outputs": [],
   "source": [
    "absent_listing_neigh_id_bed_room_prop['city_id']"
   ]
  },
  {
   "cell_type": "code",
   "execution_count": 80,
   "metadata": {},
   "outputs": [],
   "source": [
    "listingMM = pd.read_csv(\"cleanedTable/listing_final.csv\")"
   ]
  },
  {
   "cell_type": "code",
   "execution_count": 123,
   "metadata": {},
   "outputs": [],
   "source": [
    "del_list = list(set(absent_listing_neigh_id_bed_room_prop_cance.keys())-set(listingMM.keys()))"
   ]
  },
  {
   "cell_type": "code",
   "execution_count": null,
   "metadata": {},
   "outputs": [],
   "source": [
    "set(listingMM.keys()) - set(absent_listing_neigh_id_bed_room_prop_cance.keys())"
   ]
  },
  {
   "cell_type": "code",
   "execution_count": null,
   "metadata": {},
   "outputs": [],
   "source": [
    "del_list"
   ]
  },
  {
   "cell_type": "code",
   "execution_count": 125,
   "metadata": {},
   "outputs": [],
   "source": [
    "absent_listing_neigh_id_bed_room_prop_cance = absent_listing_neigh_id_bed_room_prop_cance.drop(columns=del_list)"
   ]
  },
  {
   "cell_type": "code",
   "execution_count": 135,
   "metadata": {},
   "outputs": [],
   "source": [
    "absent_listing_neigh_id_bed_room_prop_cance['bedrooms'] = absent_listing_neigh_id_bed_room_prop_cance['bedrooms'].astype(int)"
   ]
  },
  {
   "cell_type": "code",
   "execution_count": 144,
   "metadata": {},
   "outputs": [],
   "source": [
    "absent_listing_neigh_id_bed_room_prop_cance['price'] = absent_listing_neigh_id_bed_room_prop_cance['price'].str.replace(',','')\n",
    "absent_listing_neigh_id_bed_room_prop_cance['price'] = absent_listing_neigh_id_bed_room_prop_cance['price'].str.replace('$','')"
   ]
  },
  {
   "cell_type": "code",
   "execution_count": 146,
   "metadata": {},
   "outputs": [],
   "source": [
    "absent_listing_neigh_id_bed_room_prop_cance['price'] = absent_listing_neigh_id_bed_room_prop_cance['price'].to_frame().astype(float)"
   ]
  },
  {
   "cell_type": "code",
   "execution_count": 148,
   "metadata": {},
   "outputs": [],
   "source": [
    "absent_listing_neigh_id_bed_room_prop_cance['cleaning_fee'] = absent_listing_neigh_id_bed_room_prop_cance['cleaning_fee'].str.replace(',','')\n",
    "absent_listing_neigh_id_bed_room_prop_cance['cleaning_fee'] = absent_listing_neigh_id_bed_room_prop_cance['cleaning_fee'].str.replace('$','')"
   ]
  },
  {
   "cell_type": "code",
   "execution_count": 149,
   "metadata": {},
   "outputs": [],
   "source": [
    "absent_listing_neigh_id_bed_room_prop_cance['cleaning_fee'] = absent_listing_neigh_id_bed_room_prop_cance['cleaning_fee'].to_frame().astype(float)"
   ]
  },
  {
   "cell_type": "code",
   "execution_count": 151,
   "metadata": {},
   "outputs": [],
   "source": [
    "absent_listing_neigh_id_bed_room_prop_cance['extra_people'] = absent_listing_neigh_id_bed_room_prop_cance['extra_people'].str.replace(',','')\n",
    "absent_listing_neigh_id_bed_room_prop_cance['extra_people'] = absent_listing_neigh_id_bed_room_prop_cance['extra_people'].str.replace('$','')\n",
    "absent_listing_neigh_id_bed_room_prop_cance['extra_people'] = absent_listing_neigh_id_bed_room_prop_cance['extra_people'].to_frame().astype(float)"
   ]
  },
  {
   "cell_type": "code",
   "execution_count": null,
   "metadata": {},
   "outputs": [],
   "source": [
    "for key in absent_listing_neigh_id_bed_room_prop_cance.keys():\n",
    "    print(key+str(type(absent_listing_neigh_id_bed_room_prop_cance[key][0])))"
   ]
  },
  {
   "cell_type": "code",
   "execution_count": 156,
   "metadata": {},
   "outputs": [
    {
     "name": "stderr",
     "output_type": "stream",
     "text": [
      "/home/cuimingbo/software/anaconda/lib/python3.6/site-packages/ipykernel_launcher.py:1: FutureWarning: Sorting because non-concatenation axis is not aligned. A future version\n",
      "of pandas will change to not sort by default.\n",
      "\n",
      "To accept the future behavior, pass 'sort=True'.\n",
      "\n",
      "To retain the current behavior and silence the warning, pass sort=False\n",
      "\n",
      "  \"\"\"Entry point for launching an IPython kernel.\n"
     ]
    }
   ],
   "source": [
    "fuck = pd.concat([absent_listing_neigh_id_bed_room_prop_cance,listingMM])"
   ]
  },
  {
   "cell_type": "code",
   "execution_count": 157,
   "metadata": {},
   "outputs": [
    {
     "data": {
      "text/plain": [
       "(42094, 40)"
      ]
     },
     "execution_count": 157,
     "metadata": {},
     "output_type": "execute_result"
    }
   ],
   "source": [
    "fuck.shape"
   ]
  },
  {
   "cell_type": "code",
   "execution_count": 158,
   "metadata": {},
   "outputs": [],
   "source": [
    "fuck.to_csv(\"cleanedTable/listing_final_2.0.csv\")"
   ]
  },
  {
   "cell_type": "code",
   "execution_count": 162,
   "metadata": {},
   "outputs": [],
   "source": [
    "missed_attributes = ['id','listing_url', 'description','interaction','beds','require_guest_profile_picture']"
   ]
  },
  {
   "cell_type": "code",
   "execution_count": 163,
   "metadata": {},
   "outputs": [],
   "source": [
    "missed_list = combined_listings_csv[missed_attributes]"
   ]
  },
  {
   "cell_type": "code",
   "execution_count": 165,
   "metadata": {},
   "outputs": [],
   "source": [
    "final_fuck = pd.merge(fuck,missed_list,on='id')"
   ]
  },
  {
   "cell_type": "code",
   "execution_count": 167,
   "metadata": {},
   "outputs": [],
   "source": [
    "final_fuck.to_csv(\"cleanedTable/listing_final_3.0.csv\")"
   ]
  },
  {
   "cell_type": "code",
   "execution_count": 27,
   "metadata": {},
   "outputs": [
    {
     "data": {
      "text/plain": [
       "43"
      ]
     },
     "execution_count": 27,
     "metadata": {},
     "output_type": "execute_result"
    }
   ],
   "source": [
    "len(listing_col)"
   ]
  },
  {
   "cell_type": "code",
   "execution_count": 25,
   "metadata": {},
   "outputs": [
    {
     "data": {
      "text/plain": [
       "Index(['id', 'listing_url', 'name', 'summary', 'space', 'description',\n",
       "       'neighborhood_overview', 'notes', 'transit', 'access', 'interaction',\n",
       "       'house_rules', 'picture_url', 'host_id', 'host_url', 'host_name',\n",
       "       'host_since', 'host_about', 'host_response_time', 'host_response_rate',\n",
       "       'host_thumbnail_url', 'host_picture_url', 'host_neighbourhood',\n",
       "       'host_verifications', 'neighbourhood', 'city', 'country_code',\n",
       "       'country', 'latitude', 'longitude', 'property_type', 'room_type',\n",
       "       'accommodates', 'bathrooms', 'bedrooms', 'beds', 'bed_type',\n",
       "       'amenities', 'square_feet', 'price', 'weekly_price', 'monthly_price',\n",
       "       'security_deposit', 'cleaning_fee', 'guests_included', 'extra_people',\n",
       "       'minimum_nights', 'maximum_nights', 'review_scores_rating',\n",
       "       'review_scores_accuracy', 'review_scores_cleanliness',\n",
       "       'review_scores_checkin', 'review_scores_communication',\n",
       "       'review_scores_location', 'review_scores_value',\n",
       "       'is_business_travel_ready', 'cancellation_policy',\n",
       "       'require_guest_profile_picture', 'require_guest_phone_verification',\n",
       "       'CITY'],\n",
       "      dtype='object')"
      ]
     },
     "execution_count": 25,
     "metadata": {},
     "output_type": "execute_result"
    }
   ],
   "source": [
    "listing_NEW.keys()"
   ]
  },
  {
   "cell_type": "code",
   "execution_count": 9,
   "metadata": {},
   "outputs": [
    {
     "data": {
      "text/plain": [
       "0"
      ]
     },
     "execution_count": 9,
     "metadata": {},
     "output_type": "execute_result"
    }
   ],
   "source": [
    "np.sum(listing['id'] == 3357339)"
   ]
  },
  {
   "cell_type": "code",
   "execution_count": 179,
   "metadata": {},
   "outputs": [
    {
     "data": {
      "text/plain": [
       "numpy.float64"
      ]
     },
     "execution_count": 179,
     "metadata": {},
     "output_type": "execute_result"
    }
   ],
   "source": [
    "type(calendar['price'][0])"
   ]
  },
  {
   "cell_type": "code",
   "execution_count": 172,
   "metadata": {},
   "outputs": [
    {
     "data": {
      "text/plain": [
       "numpy.float64"
      ]
     },
     "execution_count": 172,
     "metadata": {},
     "output_type": "execute_result"
    }
   ],
   "source": [
    "type(final_listing['cleaning_fee'][168])"
   ]
  },
  {
   "cell_type": "code",
   "execution_count": 163,
   "metadata": {},
   "outputs": [
    {
     "data": {
      "text/plain": [
       "numpy.float64"
      ]
     },
     "execution_count": 163,
     "metadata": {},
     "output_type": "execute_result"
    }
   ],
   "source": [
    "type(final_listing['weekly_price'][168])"
   ]
  },
  {
   "cell_type": "code",
   "execution_count": null,
   "metadata": {},
   "outputs": [],
   "source": [
    "final_listing"
   ]
  },
  {
   "cell_type": "code",
   "execution_count": null,
   "metadata": {},
   "outputs": [],
   "source": []
  },
  {
   "cell_type": "code",
   "execution_count": 173,
   "metadata": {},
   "outputs": [],
   "source": [
    "final_listing.to_csv(\"cleanedTable/listing_final.csv\",index=False)"
   ]
  },
  {
   "cell_type": "code",
   "execution_count": 149,
   "metadata": {},
   "outputs": [
    {
     "data": {
      "text/plain": [
       "numpy.float64"
      ]
     },
     "execution_count": 149,
     "metadata": {},
     "output_type": "execute_result"
    }
   ],
   "source": [
    "final_listing['price'][0])"
   ]
  },
  {
   "cell_type": "code",
   "execution_count": null,
   "metadata": {},
   "outputs": [],
   "source": []
  },
  {
   "cell_type": "code",
   "execution_count": null,
   "metadata": {},
   "outputs": [],
   "source": []
  },
  {
   "cell_type": "code",
   "execution_count": 145,
   "metadata": {},
   "outputs": [
    {
     "name": "stdout",
     "output_type": "stream",
     "text": [
      "cleaning_fee<class 'numpy.float64'>\n",
      "square_feet<class 'numpy.float64'>\n",
      "price<class 'numpy.float64'>\n",
      "security_deposit<class 'numpy.float64'>\n",
      "monthly_price<class 'float'>\n",
      "weekly_price<class 'float'>\n",
      "extra_people<class 'numpy.float64'>\n",
      "longitude<class 'numpy.float64'>\n",
      "latitude<class 'numpy.float64'>\n"
     ]
    }
   ],
   "source": [
    "for st in col:\n",
    "    print(st+str(type(final_listing[st][0])))"
   ]
  },
  {
   "cell_type": "code",
   "execution_count": null,
   "metadata": {},
   "outputs": [],
   "source": [
    "final_listing['price'].str.contains(',')"
   ]
  },
  {
   "cell_type": "code",
   "execution_count": 123,
   "metadata": {},
   "outputs": [],
   "source": [
    "final_listing[col] = final_listing[col].replace(',','')"
   ]
  },
  {
   "cell_type": "code",
   "execution_count": null,
   "metadata": {},
   "outputs": [],
   "source": [
    "final_listing[col].str.contains(',')"
   ]
  },
  {
   "cell_type": "code",
   "execution_count": null,
   "metadata": {},
   "outputs": [],
   "source": [
    "final_listing[col] = final_listing[col].astype(float)"
   ]
  },
  {
   "cell_type": "code",
   "execution_count": 95,
   "metadata": {},
   "outputs": [],
   "source": [
    "final_listing['security_deposit'] = final_listing['security_deposit'].str.replace(',','')"
   ]
  },
  {
   "cell_type": "code",
   "execution_count": null,
   "metadata": {},
   "outputs": [],
   "source": [
    "final_listing['security_deposit'] = final_listing['security_deposit'].str.replace(',','')"
   ]
  },
  {
   "cell_type": "code",
   "execution_count": 81,
   "metadata": {},
   "outputs": [],
   "source": [
    "final_listing.to_csv(\"cleanedTable/listing_final.csv\", index=False)"
   ]
  },
  {
   "cell_type": "code",
   "execution_count": 84,
   "metadata": {},
   "outputs": [
    {
     "data": {
      "text/plain": [
       "Index(['id', 'host_id', 'review_scores_rating', 'cleaning_fee',\n",
       "       'minimum_nights', 'square_feet', 'review_scores_cleanliness',\n",
       "       'review_scores_accuracy', 'review_scores_value',\n",
       "       'review_scores_location', 'require_guest_phone_verification', 'price',\n",
       "       'accommodates', 'security_deposit', 'review_scores_checkin',\n",
       "       'review_scores_communication', 'maximum_nights', 'guests_included',\n",
       "       'monthly_price', 'bathrooms', 'bedrooms', 'weekly_price',\n",
       "       'extra_people', 'is_business_travel_ready', 'longitude', 'latitude',\n",
       "       'house_rules', 'summary', 'transit', 'space', 'access',\n",
       "       'neighborhood_overview', 'picture_url', 'notes',\n",
       "       'cancellation_policy_id', 'room_type_id', 'bed_type_id',\n",
       "       'property_type_id', 'neighbourhood_id', 'name'],\n",
       "      dtype='object')"
      ]
     },
     "execution_count": 84,
     "metadata": {},
     "output_type": "execute_result"
    }
   ],
   "source": [
    "final_listing.keys()"
   ]
  },
  {
   "cell_type": "code",
   "execution_count": 66,
   "metadata": {},
   "outputs": [],
   "source": [
    "final_neighbourhood = final_listing[['neighbourhood_id','neighbourhood','city_id']]"
   ]
  },
  {
   "cell_type": "code",
   "execution_count": 68,
   "metadata": {},
   "outputs": [],
   "source": [
    "final_neighbourhood = final_neighbourhood.drop_duplicates()"
   ]
  },
  {
   "cell_type": "code",
   "execution_count": 69,
   "metadata": {},
   "outputs": [],
   "source": [
    "final_neighbourhood.to_csv(\"cleanedTable/neighbour_final.csv\", index=False)"
   ]
  },
  {
   "cell_type": "code",
   "execution_count": 2,
   "metadata": {},
   "outputs": [],
   "source": [
    "listing = pd.read_csv(\"cleanedTable/listing.csv\")\n",
    "neighbourhood = pd.read_csv(\"cleanedTable/Untitled Folder/neighbourhood.csv\")\n",
    "city = pd.read_csv(\"cleanedTable/Untitled Folder/city.csv\")\n",
    "country = pd.read_csv(\"cleanedTable/Untitled Folder/country.csv\")"
   ]
  },
  {
   "cell_type": "code",
   "execution_count": 3,
   "metadata": {},
   "outputs": [],
   "source": [
    "listing_neighbourhood = pd.merge(listing, neighbourhood, on='neighbourhood_id')\n",
    "listing_neighbourhood_city = pd.merge(listing_neighbourhood, city, on='city_id')\n",
    "listing_neighbourhood_city_country = pd.merge(listing_neighbourhood_city, country, on='country_id')"
   ]
  },
  {
   "cell_type": "code",
   "execution_count": 7,
   "metadata": {},
   "outputs": [],
   "source": [
    "listing_neighbourhood_city_country = listing_neighbourhood_city_country.rename(columns={'city_name': 'city'})"
   ]
  },
  {
   "cell_type": "code",
   "execution_count": 9,
   "metadata": {},
   "outputs": [
    {
     "data": {
      "text/plain": [
       "Index(['id', 'host_id', 'name', 'review_scores_rating', 'cleaning_fee',\n",
       "       'minimum_nights', 'square_feet', 'review_scores_cleanliness',\n",
       "       'review_scores_accuracy', 'review_scores_value',\n",
       "       'review_scores_location', 'require_guest_phone_verification', 'price',\n",
       "       'accommodates', 'security_deposit', 'review_scores_checkin',\n",
       "       'review_scores_communication', 'maximum_nights', 'guests_included',\n",
       "       'monthly_price', 'bathrooms', 'bedrooms', 'weekly_price',\n",
       "       'extra_people', 'is_business_travel_ready', 'longitude', 'latitude',\n",
       "       'house_rules', 'summary', 'transit', 'space', 'access',\n",
       "       'neighborhood_overview', 'picture_url', 'notes',\n",
       "       'cancellation_policy_id', 'room_type_id', 'bed_type_id',\n",
       "       'property_type_id', 'neighbourhood_id', 'city_id', 'country_id',\n",
       "       'neighbourhood', 'city', 'country'],\n",
       "      dtype='object')"
      ]
     },
     "execution_count": 9,
     "metadata": {},
     "output_type": "execute_result"
    }
   ],
   "source": [
    "listing_neighbourhood_city_country.keys()"
   ]
  },
  {
   "cell_type": "code",
   "execution_count": 10,
   "metadata": {},
   "outputs": [],
   "source": [
    "listing_new = listing_neighbourhood_city_country"
   ]
  },
  {
   "cell_type": "code",
   "execution_count": 12,
   "metadata": {},
   "outputs": [],
   "source": [
    "city_clean = listing_new['city'].to_frame().drop_duplicates().reset_index().drop(columns='index').reset_index()"
   ]
  },
  {
   "cell_type": "code",
   "execution_count": 18,
   "metadata": {},
   "outputs": [],
   "source": [
    "city_clean['clean_city_name'] = city_clean['city']"
   ]
  },
  {
   "cell_type": "code",
   "execution_count": 20,
   "metadata": {},
   "outputs": [],
   "source": [
    "city_clean.loc[city_clean['city'].str.lower().str.contains('spain') == True,'clean_city_name'] = 'Barcelona'"
   ]
  },
  {
   "cell_type": "code",
   "execution_count": 39,
   "metadata": {},
   "outputs": [],
   "source": [
    "city_clean.loc[city_clean['city'].str.lower().str.contains('hospitalet de') == True,'clean_city_name'] = 'Barcelona'\n",
    "city_clean.loc[city_clean['city'].str.lower().str.contains('eixample') == True,'clean_city_name'] = 'Barcelona'\n",
    "city_clean.loc[city_clean['city'].str.lower().str.contains('sant adri') == True,'clean_city_name'] = 'Barcelona'\n",
    "city_clean.loc[city_clean['city'].str.lower().str.contains('zona forum') == True,'clean_city_name'] = 'Barcelona'\n",
    "city_clean.loc[city_clean['city'].str.lower().str.contains('aravaca') == True,'clean_city_name'] = 'Madrid'\n",
    "city_clean.loc[city_clean['city'].str.lower().str.contains('pozuelo de') == True,'clean_city_name'] = 'Madrid'\n",
    "city_clean.loc[city_clean['city'].str.lower().str.contains('prenzlauer berg') == True,'clean_city_name'] = 'Berlin'"
   ]
  },
  {
   "cell_type": "code",
   "execution_count": null,
   "metadata": {},
   "outputs": [],
   "source": [
    "city_clean"
   ]
  },
  {
   "cell_type": "code",
   "execution_count": null,
   "metadata": {},
   "outputs": [],
   "source": []
  }
 ],
 "metadata": {
  "kernelspec": {
   "display_name": "Python 3",
   "language": "python",
   "name": "python3"
  },
  "language_info": {
   "codemirror_mode": {
    "name": "ipython",
    "version": 3
   },
   "file_extension": ".py",
   "mimetype": "text/x-python",
   "name": "python",
   "nbconvert_exporter": "python",
   "pygments_lexer": "ipython3",
   "version": "3.6.8"
  }
 },
 "nbformat": 4,
 "nbformat_minor": 2
}
